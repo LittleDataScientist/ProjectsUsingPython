{
  "nbformat": 4,
  "nbformat_minor": 0,
  "metadata": {
    "colab": {
      "name": "IMDb_PythonProject.ipynb",
      "provenance": [],
      "collapsed_sections": [],
      "toc_visible": true
    },
    "kernelspec": {
      "name": "python3",
      "display_name": "Python 3"
    },
    "language_info": {
      "name": "python"
    }
  },
  "cells": [
    {
      "cell_type": "markdown",
      "source": [
        "# International Movie Database (IMDb)\n",
        "For this project we are going to perform:\n",
        "\n",
        "\n",
        "*   Web Scraping on IMDb website\n",
        "*   Merging the data from IMDb with Kaggle dataset\n",
        "*   Exploratory Data Analysis \n",
        "*   Modelling: Linear Regression, Regression Tree, Random Forest and Neural Network\n",
        "*   Comparing each model and choosing the best one\n",
        "\n",
        "![IMDb Image](https://miro.medium.com/max/705/1*f-bF79_zFHGXEhJvx2WPLg.jpeg)\n",
        "\n",
        "\n",
        "\n",
        "\n",
        "\n"
      ],
      "metadata": {
        "id": "qu-cK_hX1jOc"
      }
    },
    {
      "cell_type": "markdown",
      "source": [
        "#Importing all the necessary packages"
      ],
      "metadata": {
        "id": "3CgADGKA4sNe"
      }
    },
    {
      "cell_type": "code",
      "source": [
        "from google.colab import drive\n",
        "drive.mount('/content/drive')"
      ],
      "metadata": {
        "colab": {
          "base_uri": "https://localhost:8080/"
        },
        "id": "E7OPU9KaJlsm",
        "outputId": "0acc0fe1-a5c0-4532-ee54-534ef5d9a67d"
      },
      "execution_count": 81,
      "outputs": [
        {
          "output_type": "stream",
          "name": "stdout",
          "text": [
            "Drive already mounted at /content/drive; to attempt to forcibly remount, call drive.mount(\"/content/drive\", force_remount=True).\n"
          ]
        }
      ]
    },
    {
      "cell_type": "code",
      "execution_count": 82,
      "metadata": {
        "id": "Nqd2h0lIsW3s"
      },
      "outputs": [],
      "source": [
        "import lxml\n",
        "# lxml is a Python library which allows for easy handling of XML and HTML files, and can also be used for web scraping.\n",
        "import re\n",
        "# Regular expression or RegEx in Python is denoted as RE (REs, regexes or regex pattern) are imported through re module.\n",
        "import numpy as np\n",
        "import pandas as pd\n",
        "from bs4 import BeautifulSoup\n",
        "# Beautiful Soup is a Python library for pulling data out of HTML and XML files\n",
        "from requests import get\n",
        "# Requests will allow you to send HTTP/1.1 requests using Python. With it, you can add content like headers, form data, multipart files, and parameters via simple Python libraries.\n",
        "from sklearn.preprocessing import OneHotEncoder\n",
        "import seaborn as sns\n",
        "from sklearn.model_selection import train_test_split\n",
        "from sklearn.linear_model import LinearRegression\n",
        "from sklearn import metrics\n",
        "from sklearn.metrics import r2_score\n",
        "from sklearn.metrics import mean_squared_error\n",
        "import matplotlib.pyplot as plt\n",
        "from numpy import loadtxt\n",
        "from keras.models import Sequential\n",
        "from keras.layers import Dense\n",
        "from sklearn.ensemble import RandomForestRegressor\n",
        "from sklearn.metrics import mean_absolute_error\n",
        "from sklearn.tree import DecisionTreeRegressor"
      ]
    },
    {
      "cell_type": "markdown",
      "source": [
        "# Web Scraping"
      ],
      "metadata": {
        "id": "gPMP-m5f8CoZ"
      }
    },
    {
      "cell_type": "code",
      "source": [
        "# List of URLs\n",
        "url1 = []\n",
        "pages = np.arange(1,10000,100)\n",
        "for i in pages:\n",
        "  url1.append(\"https://www.imdb.com/search/title/?title_type=feature,tv_series&count=100&start=\" + str(i)+\"&ref_=adv_nxt\")\n",
        "  \n",
        "# creating a web scraping function\n",
        "class IMDB(object):\n",
        " \n",
        "  def __init__(self, url):\n",
        "    super(IMDB, self).__init__()\n",
        "    page = get(url)\n",
        "\n",
        "    self.soup = BeautifulSoup(page.content, 'lxml')\n",
        "\n",
        "\n",
        "  def articleTitle(self):\n",
        "    return self.soup.find(\"h1\", class_=\"header\").text.replace(\"\\n\",\"\")\n",
        "\n",
        "  def bodyContent(self):\n",
        "    content = self.soup.find(id=\"main\")\n",
        "    return content.find_all(\"div\",class_=\"lister-item mode-advanced\")\n",
        "\n",
        "  def movieData(self):\n",
        "    movieFrame = self.bodyContent()\n",
        "    movieTitle = []\n",
        "    movieDate = []\n",
        "    movieRunTime = []\n",
        "    movieGenre = []\n",
        "    movieRating = []\n",
        "    movieScore = []\n",
        "    movieDescription = []\n",
        "    movieDirector = []\n",
        "    movieStars = []\n",
        "    movieVotes = []\n",
        "    movieGross = []\n",
        "    movieMetascore1 = []\n",
        "    movieMetascore2 = []\n",
        "    movieMetascore3 = []\n",
        "    for movie in movieFrame:\n",
        "      movieFirstLine = movie.find(\"h3\", class_=\"lister-item-header\")\n",
        "      movieTitle.append(movieFirstLine.find(\"a\").text)\n",
        "      movieDate.append(re.sub(r\"[()]\",\"\", movieFirstLine.find_all(\"span\")[-1].text))\n",
        "      try:\n",
        "        movieRunTime.append(movie.find(\"span\", class_=\"runtime\").text[:-4])\n",
        "      except: \n",
        "        movieRunTime.append(np.nan)\n",
        "\n",
        "      try:\n",
        "        movieRating.append(movie.find(\"strong\").text)\n",
        "      except:\n",
        "        movieRating.append(np.nan)\n",
        "      \n",
        "      try:\n",
        "        movieScore.append(movie.find(\"span\",class_=\"metascore unfavourable\").text.rstrip())\n",
        "      except:\n",
        "        movieScore.append(np.nan)\n",
        "      \n",
        "      movieDescription.append(movie.find_all(\"p\",class_=\"text-muted\")[-1].text.lstrip())\n",
        "      movieCast = movie.find(\"p\",class_=\"\")\n",
        "\n",
        "      try:\n",
        "        casts = movieCast.text.replace(\"\\n\",\"\").split('|')\n",
        "        casts = [x.strip() for x in casts]\n",
        "        casts = [casts[i].replace(j, \"\") for i,j in enumerate([\"Director:\", \"Stars\"])]\n",
        "        movieDirector.append(casts[0])\n",
        "        movieStars.append([x.strip() for x in casts[1].split(\",\")])\n",
        "\n",
        "      except:\n",
        "        casts = movieCast.text.replace(\"\\n\",\"\").strip()\n",
        "        movieDirector.append(np.nan)\n",
        "        movieStars.append([x.strip() for x in casts.split(\",\")])\n",
        "\n",
        "      movieNumbers = movie.find_all(\"span\", attrs = {\"name\": \"nv\"})\n",
        "      if len(movieNumbers) == 2:\n",
        "        movieVotes.append(movieNumbers[0].text)\n",
        "        movieGross.append(movieNumbers[1].text)\n",
        "      elif len(movieNumbers) == 1:\n",
        "        movieVotes.append(movieNumbers[0].text)\n",
        "        movieGross.append(np.nan)\n",
        "      else:\n",
        "        movieVotes.append(np.nan)\n",
        "        movieGross.append(np.nan)\n",
        "\n",
        "      movieNumbers2 = movie.find_all(\"span\", class_=\"metascore unfavourable\")\n",
        "\n",
        "      if len(movieNumbers2) == 1:\n",
        "        movieMetascore1.append(movieNumbers2[0].text)\n",
        "      else:\n",
        "        movieMetascore1.append(np.nan)\n",
        "\n",
        "      movieNumbers3 = movie.find_all(\"span\", class_=\"metascore favourable\")\n",
        "\n",
        "      if len(movieNumbers3) == 1:\n",
        "        movieMetascore2.append(movieNumbers3[0].text)\n",
        "      else:\n",
        "        movieMetascore2.append(np.nan)\n",
        "\n",
        "      movieNumbers4 = movie.find_all(\"span\", class_=\"metascore mixed\")\n",
        "\n",
        "      if len(movieNumbers4) == 1:\n",
        "        movieMetascore3.append(movieNumbers4[0].text)\n",
        "      else:\n",
        "        movieMetascore3.append(np.nan)\n",
        "\n",
        "    movieData = [movieTitle, movieDate, movieRunTime, movieRating, movieScore, movieDescription, movieDirector, movieStars, movieVotes,\n",
        "               movieGross, movieMetascore1, movieMetascore2, movieMetascore3]\n",
        "    return movieData\n",
        "\n",
        "# Apply IMDB function on list of URLs and store data in them\n",
        "data = []\n",
        "for i in range(40):\n",
        "  if __name__ == '__main__':\n",
        "    site1=IMDB(url1[i])\n",
        "    print(\"Subject: \",site1.articleTitle())\n",
        "    data.append(site1.movieData())\n",
        "\n",
        "  \n",
        "\n",
        "\n",
        "\n",
        "      "
      ],
      "metadata": {
        "colab": {
          "base_uri": "https://localhost:8080/"
        },
        "id": "i7rG_arR6lEa",
        "outputId": "399c1fce-8321-4626-fae4-4403bcae122d"
      },
      "execution_count": 83,
      "outputs": [
        {
          "output_type": "stream",
          "name": "stdout",
          "text": [
            "Subject:  Feature Film/TV Series(Sorted by Popularity Ascending) \n",
            "Subject:  Feature Film/TV Series(Sorted by Popularity Ascending) \n",
            "Subject:  Feature Film/TV Series(Sorted by Popularity Ascending) \n",
            "Subject:  Feature Film/TV Series(Sorted by Popularity Ascending) \n",
            "Subject:  Feature Film/TV Series(Sorted by Popularity Ascending) \n",
            "Subject:  Feature Film/TV Series(Sorted by Popularity Ascending) \n",
            "Subject:  Feature Film/TV Series(Sorted by Popularity Ascending) \n",
            "Subject:  Feature Film/TV Series(Sorted by Popularity Ascending) \n",
            "Subject:  Feature Film/TV Series(Sorted by Popularity Ascending) \n",
            "Subject:  Feature Film/TV Series(Sorted by Popularity Ascending) \n",
            "Subject:  Feature Film/TV Series(Sorted by Popularity Ascending) \n",
            "Subject:  Feature Film/TV Series(Sorted by Popularity Ascending) \n",
            "Subject:  Feature Film/TV Series(Sorted by Popularity Ascending) \n",
            "Subject:  Feature Film/TV Series(Sorted by Popularity Ascending) \n",
            "Subject:  Feature Film/TV Series(Sorted by Popularity Ascending) \n",
            "Subject:  Feature Film/TV Series(Sorted by Popularity Ascending) \n",
            "Subject:  Feature Film/TV Series(Sorted by Popularity Ascending) \n",
            "Subject:  Feature Film/TV Series(Sorted by Popularity Ascending) \n",
            "Subject:  Feature Film/TV Series(Sorted by Popularity Ascending) \n",
            "Subject:  Feature Film/TV Series(Sorted by Popularity Ascending) \n",
            "Subject:  Feature Film/TV Series(Sorted by Popularity Ascending) \n",
            "Subject:  Feature Film/TV Series(Sorted by Popularity Ascending) \n",
            "Subject:  Feature Film/TV Series(Sorted by Popularity Ascending) \n",
            "Subject:  Feature Film/TV Series(Sorted by Popularity Ascending) \n",
            "Subject:  Feature Film/TV Series(Sorted by Popularity Ascending) \n",
            "Subject:  Feature Film/TV Series(Sorted by Popularity Ascending) \n",
            "Subject:  Feature Film/TV Series(Sorted by Popularity Ascending) \n",
            "Subject:  Feature Film/TV Series(Sorted by Popularity Ascending) \n",
            "Subject:  Feature Film/TV Series(Sorted by Popularity Ascending) \n",
            "Subject:  Feature Film/TV Series(Sorted by Popularity Ascending) \n",
            "Subject:  Feature Film/TV Series(Sorted by Popularity Ascending) \n",
            "Subject:  Feature Film/TV Series(Sorted by Popularity Ascending) \n",
            "Subject:  Feature Film/TV Series(Sorted by Popularity Ascending) \n",
            "Subject:  Feature Film/TV Series(Sorted by Popularity Ascending) \n",
            "Subject:  Feature Film/TV Series(Sorted by Popularity Ascending) \n",
            "Subject:  Feature Film/TV Series(Sorted by Popularity Ascending) \n",
            "Subject:  Feature Film/TV Series(Sorted by Popularity Ascending) \n",
            "Subject:  Feature Film/TV Series(Sorted by Popularity Ascending) \n",
            "Subject:  Feature Film/TV Series(Sorted by Popularity Ascending) \n",
            "Subject:  Feature Film/TV Series(Sorted by Popularity Ascending) \n"
          ]
        }
      ]
    },
    {
      "cell_type": "markdown",
      "source": [
        "# Data Pre Processing\n"
      ],
      "metadata": {
        "id": "c2sCBS1lKcH6"
      }
    },
    {
      "cell_type": "code",
      "source": [
        "# Appending data from 40 URLs\n",
        "for i in range(len(data)):\n",
        "  data[i] = pd.DataFrame(data[i]).transpose()\n",
        "\n",
        "df=data[0].append([data[1],data[2],data[3],data[4],data[5],data[6],data[7],data[8],data[9],data[10],\n",
        "                    data[11],data[12],data[13],data[14],data[15],data[16],data[17],data[18],data[19],data[20],\n",
        "                    data[21],data[22],data[23],data[24],data[25],data[26],data[27],data[28],data[29],data[30],\n",
        "                    data[31],data[32],data[33],data[34],data[35],data[36],data[37],data[38],data[39]])"
      ],
      "metadata": {
        "id": "e2rEVui_Khb8"
      },
      "execution_count": 84,
      "outputs": []
    },
    {
      "cell_type": "code",
      "source": [
        "# Renaming the year column\n",
        "df_new = df.rename(columns={1: 'year'})\n",
        "df_new.head()"
      ],
      "metadata": {
        "colab": {
          "base_uri": "https://localhost:8080/",
          "height": 250
        },
        "id": "EF4i-hu_Ls6L",
        "outputId": "36879fdf-6b1b-4556-a6ae-4f5de10186ad"
      },
      "execution_count": 85,
      "outputs": [
        {
          "output_type": "execute_result",
          "data": {
            "text/plain": [
              "                      0       year    2    3    4  \\\n",
              "0       Stranger Things     2016–    51  8.7  NaN   \n",
              "1     Top Gun: Maverick       2022  131  8.7  NaN   \n",
              "2      Better Call Saul  2015–2022   46  8.8  NaN   \n",
              "3  Love, Death & Robots     2019–    15  8.4  NaN   \n",
              "4               Top Gun       1986  110  6.9  NaN   \n",
              "\n",
              "                                                   5      6          7  \\\n",
              "0  When a young boy disappears, his mother, a pol...  TV-14   [51 min]   \n",
              "1  After more than thirty years of service as one...  PG-13  [131 min]   \n",
              "2  The trials and tribulations of criminal lawyer...  TV-MA   [46 min]   \n",
              "3  A collection of animated short stories that sp...  TV-MA   [15 min]   \n",
              "4  As students at the United States Navy's elite ...     PG  [110 min]   \n",
              "\n",
              "           8         9   10   11          12  \n",
              "0  1,009,805       NaN  NaN  NaN         NaN  \n",
              "1     70,363       NaN  NaN  NaN         NaN  \n",
              "2    415,053       NaN  NaN  NaN         NaN  \n",
              "3    144,451       NaN  NaN  NaN         NaN  \n",
              "4    350,289  $179.80M  NaN  NaN  50          "
            ],
            "text/html": [
              "\n",
              "  <div id=\"df-8a14ac35-c0da-42fa-8bef-eab8153c33da\">\n",
              "    <div class=\"colab-df-container\">\n",
              "      <div>\n",
              "<style scoped>\n",
              "    .dataframe tbody tr th:only-of-type {\n",
              "        vertical-align: middle;\n",
              "    }\n",
              "\n",
              "    .dataframe tbody tr th {\n",
              "        vertical-align: top;\n",
              "    }\n",
              "\n",
              "    .dataframe thead th {\n",
              "        text-align: right;\n",
              "    }\n",
              "</style>\n",
              "<table border=\"1\" class=\"dataframe\">\n",
              "  <thead>\n",
              "    <tr style=\"text-align: right;\">\n",
              "      <th></th>\n",
              "      <th>0</th>\n",
              "      <th>year</th>\n",
              "      <th>2</th>\n",
              "      <th>3</th>\n",
              "      <th>4</th>\n",
              "      <th>5</th>\n",
              "      <th>6</th>\n",
              "      <th>7</th>\n",
              "      <th>8</th>\n",
              "      <th>9</th>\n",
              "      <th>10</th>\n",
              "      <th>11</th>\n",
              "      <th>12</th>\n",
              "    </tr>\n",
              "  </thead>\n",
              "  <tbody>\n",
              "    <tr>\n",
              "      <th>0</th>\n",
              "      <td>Stranger Things</td>\n",
              "      <td>2016–</td>\n",
              "      <td>51</td>\n",
              "      <td>8.7</td>\n",
              "      <td>NaN</td>\n",
              "      <td>When a young boy disappears, his mother, a pol...</td>\n",
              "      <td>TV-14</td>\n",
              "      <td>[51 min]</td>\n",
              "      <td>1,009,805</td>\n",
              "      <td>NaN</td>\n",
              "      <td>NaN</td>\n",
              "      <td>NaN</td>\n",
              "      <td>NaN</td>\n",
              "    </tr>\n",
              "    <tr>\n",
              "      <th>1</th>\n",
              "      <td>Top Gun: Maverick</td>\n",
              "      <td>2022</td>\n",
              "      <td>131</td>\n",
              "      <td>8.7</td>\n",
              "      <td>NaN</td>\n",
              "      <td>After more than thirty years of service as one...</td>\n",
              "      <td>PG-13</td>\n",
              "      <td>[131 min]</td>\n",
              "      <td>70,363</td>\n",
              "      <td>NaN</td>\n",
              "      <td>NaN</td>\n",
              "      <td>NaN</td>\n",
              "      <td>NaN</td>\n",
              "    </tr>\n",
              "    <tr>\n",
              "      <th>2</th>\n",
              "      <td>Better Call Saul</td>\n",
              "      <td>2015–2022</td>\n",
              "      <td>46</td>\n",
              "      <td>8.8</td>\n",
              "      <td>NaN</td>\n",
              "      <td>The trials and tribulations of criminal lawyer...</td>\n",
              "      <td>TV-MA</td>\n",
              "      <td>[46 min]</td>\n",
              "      <td>415,053</td>\n",
              "      <td>NaN</td>\n",
              "      <td>NaN</td>\n",
              "      <td>NaN</td>\n",
              "      <td>NaN</td>\n",
              "    </tr>\n",
              "    <tr>\n",
              "      <th>3</th>\n",
              "      <td>Love, Death &amp; Robots</td>\n",
              "      <td>2019–</td>\n",
              "      <td>15</td>\n",
              "      <td>8.4</td>\n",
              "      <td>NaN</td>\n",
              "      <td>A collection of animated short stories that sp...</td>\n",
              "      <td>TV-MA</td>\n",
              "      <td>[15 min]</td>\n",
              "      <td>144,451</td>\n",
              "      <td>NaN</td>\n",
              "      <td>NaN</td>\n",
              "      <td>NaN</td>\n",
              "      <td>NaN</td>\n",
              "    </tr>\n",
              "    <tr>\n",
              "      <th>4</th>\n",
              "      <td>Top Gun</td>\n",
              "      <td>1986</td>\n",
              "      <td>110</td>\n",
              "      <td>6.9</td>\n",
              "      <td>NaN</td>\n",
              "      <td>As students at the United States Navy's elite ...</td>\n",
              "      <td>PG</td>\n",
              "      <td>[110 min]</td>\n",
              "      <td>350,289</td>\n",
              "      <td>$179.80M</td>\n",
              "      <td>NaN</td>\n",
              "      <td>NaN</td>\n",
              "      <td>50</td>\n",
              "    </tr>\n",
              "  </tbody>\n",
              "</table>\n",
              "</div>\n",
              "      <button class=\"colab-df-convert\" onclick=\"convertToInteractive('df-8a14ac35-c0da-42fa-8bef-eab8153c33da')\"\n",
              "              title=\"Convert this dataframe to an interactive table.\"\n",
              "              style=\"display:none;\">\n",
              "        \n",
              "  <svg xmlns=\"http://www.w3.org/2000/svg\" height=\"24px\"viewBox=\"0 0 24 24\"\n",
              "       width=\"24px\">\n",
              "    <path d=\"M0 0h24v24H0V0z\" fill=\"none\"/>\n",
              "    <path d=\"M18.56 5.44l.94 2.06.94-2.06 2.06-.94-2.06-.94-.94-2.06-.94 2.06-2.06.94zm-11 1L8.5 8.5l.94-2.06 2.06-.94-2.06-.94L8.5 2.5l-.94 2.06-2.06.94zm10 10l.94 2.06.94-2.06 2.06-.94-2.06-.94-.94-2.06-.94 2.06-2.06.94z\"/><path d=\"M17.41 7.96l-1.37-1.37c-.4-.4-.92-.59-1.43-.59-.52 0-1.04.2-1.43.59L10.3 9.45l-7.72 7.72c-.78.78-.78 2.05 0 2.83L4 21.41c.39.39.9.59 1.41.59.51 0 1.02-.2 1.41-.59l7.78-7.78 2.81-2.81c.8-.78.8-2.07 0-2.86zM5.41 20L4 18.59l7.72-7.72 1.47 1.35L5.41 20z\"/>\n",
              "  </svg>\n",
              "      </button>\n",
              "      \n",
              "  <style>\n",
              "    .colab-df-container {\n",
              "      display:flex;\n",
              "      flex-wrap:wrap;\n",
              "      gap: 12px;\n",
              "    }\n",
              "\n",
              "    .colab-df-convert {\n",
              "      background-color: #E8F0FE;\n",
              "      border: none;\n",
              "      border-radius: 50%;\n",
              "      cursor: pointer;\n",
              "      display: none;\n",
              "      fill: #1967D2;\n",
              "      height: 32px;\n",
              "      padding: 0 0 0 0;\n",
              "      width: 32px;\n",
              "    }\n",
              "\n",
              "    .colab-df-convert:hover {\n",
              "      background-color: #E2EBFA;\n",
              "      box-shadow: 0px 1px 2px rgba(60, 64, 67, 0.3), 0px 1px 3px 1px rgba(60, 64, 67, 0.15);\n",
              "      fill: #174EA6;\n",
              "    }\n",
              "\n",
              "    [theme=dark] .colab-df-convert {\n",
              "      background-color: #3B4455;\n",
              "      fill: #D2E3FC;\n",
              "    }\n",
              "\n",
              "    [theme=dark] .colab-df-convert:hover {\n",
              "      background-color: #434B5C;\n",
              "      box-shadow: 0px 1px 3px 1px rgba(0, 0, 0, 0.15);\n",
              "      filter: drop-shadow(0px 1px 2px rgba(0, 0, 0, 0.3));\n",
              "      fill: #FFFFFF;\n",
              "    }\n",
              "  </style>\n",
              "\n",
              "      <script>\n",
              "        const buttonEl =\n",
              "          document.querySelector('#df-8a14ac35-c0da-42fa-8bef-eab8153c33da button.colab-df-convert');\n",
              "        buttonEl.style.display =\n",
              "          google.colab.kernel.accessAllowed ? 'block' : 'none';\n",
              "\n",
              "        async function convertToInteractive(key) {\n",
              "          const element = document.querySelector('#df-8a14ac35-c0da-42fa-8bef-eab8153c33da');\n",
              "          const dataTable =\n",
              "            await google.colab.kernel.invokeFunction('convertToInteractive',\n",
              "                                                     [key], {});\n",
              "          if (!dataTable) return;\n",
              "\n",
              "          const docLinkHtml = 'Like what you see? Visit the ' +\n",
              "            '<a target=\"_blank\" href=https://colab.research.google.com/notebooks/data_table.ipynb>data table notebook</a>'\n",
              "            + ' to learn more about interactive tables.';\n",
              "          element.innerHTML = '';\n",
              "          dataTable['output_type'] = 'display_data';\n",
              "          await google.colab.output.renderOutput(dataTable, element);\n",
              "          const docLink = document.createElement('div');\n",
              "          docLink.innerHTML = docLinkHtml;\n",
              "          element.appendChild(docLink);\n",
              "        }\n",
              "      </script>\n",
              "    </div>\n",
              "  </div>\n",
              "  "
            ]
          },
          "metadata": {},
          "execution_count": 85
        }
      ]
    },
    {
      "cell_type": "code",
      "source": [
        "# Creating a column for metascore\n",
        "df_new['meta'] = np.nan"
      ],
      "metadata": {
        "id": "ohzenkijL8L5"
      },
      "execution_count": 86,
      "outputs": []
    },
    {
      "cell_type": "code",
      "source": [
        "# Assigning value to new column\n",
        "for i in range(len(df_new)):\n",
        "  if (pd.notnull(df_new.iloc[i,10])):\n",
        "    df_new.iloc[i,13]=df_new.iloc[i,10]\n",
        "  elif (pd.notnull(df_new.iloc[i,11])):\n",
        "    df_new.iloc[i,13] = df_new.iloc[i,11]\n",
        "  else:\n",
        "    df_new.iloc[i,13]=df_new.iloc[i,12]"
      ],
      "metadata": {
        "id": "UCtue7GEOB_K"
      },
      "execution_count": 87,
      "outputs": []
    },
    {
      "cell_type": "code",
      "source": [
        "df_new.head()"
      ],
      "metadata": {
        "colab": {
          "base_uri": "https://localhost:8080/",
          "height": 337
        },
        "id": "Mu7tbFW3WRaq",
        "outputId": "f567cb0e-d42e-4b04-ab50-936a8a511760"
      },
      "execution_count": 88,
      "outputs": [
        {
          "output_type": "execute_result",
          "data": {
            "text/plain": [
              "                      0       year    2    3    4  \\\n",
              "0       Stranger Things     2016–    51  8.7  NaN   \n",
              "1     Top Gun: Maverick       2022  131  8.7  NaN   \n",
              "2      Better Call Saul  2015–2022   46  8.8  NaN   \n",
              "3  Love, Death & Robots     2019–    15  8.4  NaN   \n",
              "4               Top Gun       1986  110  6.9  NaN   \n",
              "\n",
              "                                                   5      6          7  \\\n",
              "0  When a young boy disappears, his mother, a pol...  TV-14   [51 min]   \n",
              "1  After more than thirty years of service as one...  PG-13  [131 min]   \n",
              "2  The trials and tribulations of criminal lawyer...  TV-MA   [46 min]   \n",
              "3  A collection of animated short stories that sp...  TV-MA   [15 min]   \n",
              "4  As students at the United States Navy's elite ...     PG  [110 min]   \n",
              "\n",
              "           8         9   10   11          12        meta  \n",
              "0  1,009,805       NaN  NaN  NaN         NaN         NaN  \n",
              "1     70,363       NaN  NaN  NaN         NaN         NaN  \n",
              "2    415,053       NaN  NaN  NaN         NaN         NaN  \n",
              "3    144,451       NaN  NaN  NaN         NaN         NaN  \n",
              "4    350,289  $179.80M  NaN  NaN  50          50          "
            ],
            "text/html": [
              "\n",
              "  <div id=\"df-a55be37c-f8dc-424f-9a18-aedc2a3a6ea7\">\n",
              "    <div class=\"colab-df-container\">\n",
              "      <div>\n",
              "<style scoped>\n",
              "    .dataframe tbody tr th:only-of-type {\n",
              "        vertical-align: middle;\n",
              "    }\n",
              "\n",
              "    .dataframe tbody tr th {\n",
              "        vertical-align: top;\n",
              "    }\n",
              "\n",
              "    .dataframe thead th {\n",
              "        text-align: right;\n",
              "    }\n",
              "</style>\n",
              "<table border=\"1\" class=\"dataframe\">\n",
              "  <thead>\n",
              "    <tr style=\"text-align: right;\">\n",
              "      <th></th>\n",
              "      <th>0</th>\n",
              "      <th>year</th>\n",
              "      <th>2</th>\n",
              "      <th>3</th>\n",
              "      <th>4</th>\n",
              "      <th>5</th>\n",
              "      <th>6</th>\n",
              "      <th>7</th>\n",
              "      <th>8</th>\n",
              "      <th>9</th>\n",
              "      <th>10</th>\n",
              "      <th>11</th>\n",
              "      <th>12</th>\n",
              "      <th>meta</th>\n",
              "    </tr>\n",
              "  </thead>\n",
              "  <tbody>\n",
              "    <tr>\n",
              "      <th>0</th>\n",
              "      <td>Stranger Things</td>\n",
              "      <td>2016–</td>\n",
              "      <td>51</td>\n",
              "      <td>8.7</td>\n",
              "      <td>NaN</td>\n",
              "      <td>When a young boy disappears, his mother, a pol...</td>\n",
              "      <td>TV-14</td>\n",
              "      <td>[51 min]</td>\n",
              "      <td>1,009,805</td>\n",
              "      <td>NaN</td>\n",
              "      <td>NaN</td>\n",
              "      <td>NaN</td>\n",
              "      <td>NaN</td>\n",
              "      <td>NaN</td>\n",
              "    </tr>\n",
              "    <tr>\n",
              "      <th>1</th>\n",
              "      <td>Top Gun: Maverick</td>\n",
              "      <td>2022</td>\n",
              "      <td>131</td>\n",
              "      <td>8.7</td>\n",
              "      <td>NaN</td>\n",
              "      <td>After more than thirty years of service as one...</td>\n",
              "      <td>PG-13</td>\n",
              "      <td>[131 min]</td>\n",
              "      <td>70,363</td>\n",
              "      <td>NaN</td>\n",
              "      <td>NaN</td>\n",
              "      <td>NaN</td>\n",
              "      <td>NaN</td>\n",
              "      <td>NaN</td>\n",
              "    </tr>\n",
              "    <tr>\n",
              "      <th>2</th>\n",
              "      <td>Better Call Saul</td>\n",
              "      <td>2015–2022</td>\n",
              "      <td>46</td>\n",
              "      <td>8.8</td>\n",
              "      <td>NaN</td>\n",
              "      <td>The trials and tribulations of criminal lawyer...</td>\n",
              "      <td>TV-MA</td>\n",
              "      <td>[46 min]</td>\n",
              "      <td>415,053</td>\n",
              "      <td>NaN</td>\n",
              "      <td>NaN</td>\n",
              "      <td>NaN</td>\n",
              "      <td>NaN</td>\n",
              "      <td>NaN</td>\n",
              "    </tr>\n",
              "    <tr>\n",
              "      <th>3</th>\n",
              "      <td>Love, Death &amp; Robots</td>\n",
              "      <td>2019–</td>\n",
              "      <td>15</td>\n",
              "      <td>8.4</td>\n",
              "      <td>NaN</td>\n",
              "      <td>A collection of animated short stories that sp...</td>\n",
              "      <td>TV-MA</td>\n",
              "      <td>[15 min]</td>\n",
              "      <td>144,451</td>\n",
              "      <td>NaN</td>\n",
              "      <td>NaN</td>\n",
              "      <td>NaN</td>\n",
              "      <td>NaN</td>\n",
              "      <td>NaN</td>\n",
              "    </tr>\n",
              "    <tr>\n",
              "      <th>4</th>\n",
              "      <td>Top Gun</td>\n",
              "      <td>1986</td>\n",
              "      <td>110</td>\n",
              "      <td>6.9</td>\n",
              "      <td>NaN</td>\n",
              "      <td>As students at the United States Navy's elite ...</td>\n",
              "      <td>PG</td>\n",
              "      <td>[110 min]</td>\n",
              "      <td>350,289</td>\n",
              "      <td>$179.80M</td>\n",
              "      <td>NaN</td>\n",
              "      <td>NaN</td>\n",
              "      <td>50</td>\n",
              "      <td>50</td>\n",
              "    </tr>\n",
              "  </tbody>\n",
              "</table>\n",
              "</div>\n",
              "      <button class=\"colab-df-convert\" onclick=\"convertToInteractive('df-a55be37c-f8dc-424f-9a18-aedc2a3a6ea7')\"\n",
              "              title=\"Convert this dataframe to an interactive table.\"\n",
              "              style=\"display:none;\">\n",
              "        \n",
              "  <svg xmlns=\"http://www.w3.org/2000/svg\" height=\"24px\"viewBox=\"0 0 24 24\"\n",
              "       width=\"24px\">\n",
              "    <path d=\"M0 0h24v24H0V0z\" fill=\"none\"/>\n",
              "    <path d=\"M18.56 5.44l.94 2.06.94-2.06 2.06-.94-2.06-.94-.94-2.06-.94 2.06-2.06.94zm-11 1L8.5 8.5l.94-2.06 2.06-.94-2.06-.94L8.5 2.5l-.94 2.06-2.06.94zm10 10l.94 2.06.94-2.06 2.06-.94-2.06-.94-.94-2.06-.94 2.06-2.06.94z\"/><path d=\"M17.41 7.96l-1.37-1.37c-.4-.4-.92-.59-1.43-.59-.52 0-1.04.2-1.43.59L10.3 9.45l-7.72 7.72c-.78.78-.78 2.05 0 2.83L4 21.41c.39.39.9.59 1.41.59.51 0 1.02-.2 1.41-.59l7.78-7.78 2.81-2.81c.8-.78.8-2.07 0-2.86zM5.41 20L4 18.59l7.72-7.72 1.47 1.35L5.41 20z\"/>\n",
              "  </svg>\n",
              "      </button>\n",
              "      \n",
              "  <style>\n",
              "    .colab-df-container {\n",
              "      display:flex;\n",
              "      flex-wrap:wrap;\n",
              "      gap: 12px;\n",
              "    }\n",
              "\n",
              "    .colab-df-convert {\n",
              "      background-color: #E8F0FE;\n",
              "      border: none;\n",
              "      border-radius: 50%;\n",
              "      cursor: pointer;\n",
              "      display: none;\n",
              "      fill: #1967D2;\n",
              "      height: 32px;\n",
              "      padding: 0 0 0 0;\n",
              "      width: 32px;\n",
              "    }\n",
              "\n",
              "    .colab-df-convert:hover {\n",
              "      background-color: #E2EBFA;\n",
              "      box-shadow: 0px 1px 2px rgba(60, 64, 67, 0.3), 0px 1px 3px 1px rgba(60, 64, 67, 0.15);\n",
              "      fill: #174EA6;\n",
              "    }\n",
              "\n",
              "    [theme=dark] .colab-df-convert {\n",
              "      background-color: #3B4455;\n",
              "      fill: #D2E3FC;\n",
              "    }\n",
              "\n",
              "    [theme=dark] .colab-df-convert:hover {\n",
              "      background-color: #434B5C;\n",
              "      box-shadow: 0px 1px 3px 1px rgba(0, 0, 0, 0.15);\n",
              "      filter: drop-shadow(0px 1px 2px rgba(0, 0, 0, 0.3));\n",
              "      fill: #FFFFFF;\n",
              "    }\n",
              "  </style>\n",
              "\n",
              "      <script>\n",
              "        const buttonEl =\n",
              "          document.querySelector('#df-a55be37c-f8dc-424f-9a18-aedc2a3a6ea7 button.colab-df-convert');\n",
              "        buttonEl.style.display =\n",
              "          google.colab.kernel.accessAllowed ? 'block' : 'none';\n",
              "\n",
              "        async function convertToInteractive(key) {\n",
              "          const element = document.querySelector('#df-a55be37c-f8dc-424f-9a18-aedc2a3a6ea7');\n",
              "          const dataTable =\n",
              "            await google.colab.kernel.invokeFunction('convertToInteractive',\n",
              "                                                     [key], {});\n",
              "          if (!dataTable) return;\n",
              "\n",
              "          const docLinkHtml = 'Like what you see? Visit the ' +\n",
              "            '<a target=\"_blank\" href=https://colab.research.google.com/notebooks/data_table.ipynb>data table notebook</a>'\n",
              "            + ' to learn more about interactive tables.';\n",
              "          element.innerHTML = '';\n",
              "          dataTable['output_type'] = 'display_data';\n",
              "          await google.colab.output.renderOutput(dataTable, element);\n",
              "          const docLink = document.createElement('div');\n",
              "          docLink.innerHTML = docLinkHtml;\n",
              "          element.appendChild(docLink);\n",
              "        }\n",
              "      </script>\n",
              "    </div>\n",
              "  </div>\n",
              "  "
            ]
          },
          "metadata": {},
          "execution_count": 88
        }
      ]
    },
    {
      "cell_type": "code",
      "source": [
        "# Dropping metascore columns\n",
        "movies_df = df_new.drop(columns=[4,10,11,12],axis=1)\n"
      ],
      "metadata": {
        "id": "kSp4Bz_zWWVl"
      },
      "execution_count": 89,
      "outputs": []
    },
    {
      "cell_type": "code",
      "source": [
        "# Renaming columns\n",
        "movies_df.columns = ['title','year','duration','rating','description','director','actors','votes','budget','metascore']"
      ],
      "metadata": {
        "id": "t2kTN--pWicl"
      },
      "execution_count": 90,
      "outputs": []
    },
    {
      "cell_type": "code",
      "source": [
        "# Subsetting data to movies subset\n",
        "movies = movies_df[~movies_df['year'].str.contains('-')]\n",
        "movies.head()"
      ],
      "metadata": {
        "colab": {
          "base_uri": "https://localhost:8080/",
          "height": 250
        },
        "id": "_AyZHG0JW8Un",
        "outputId": "801f3b42-5631-4639-d2c7-94083b5ef53d"
      },
      "execution_count": 91,
      "outputs": [
        {
          "output_type": "execute_result",
          "data": {
            "text/plain": [
              "                  title       year duration rating  \\\n",
              "0       Stranger Things     2016–        51    8.7   \n",
              "1     Top Gun: Maverick       2022      131    8.7   \n",
              "2      Better Call Saul  2015–2022       46    8.8   \n",
              "3  Love, Death & Robots     2019–        15    8.4   \n",
              "4               Top Gun       1986      110    6.9   \n",
              "\n",
              "                                         description director     actors  \\\n",
              "0  When a young boy disappears, his mother, a pol...    TV-14   [51 min]   \n",
              "1  After more than thirty years of service as one...    PG-13  [131 min]   \n",
              "2  The trials and tribulations of criminal lawyer...    TV-MA   [46 min]   \n",
              "3  A collection of animated short stories that sp...    TV-MA   [15 min]   \n",
              "4  As students at the United States Navy's elite ...       PG  [110 min]   \n",
              "\n",
              "       votes    budget   metascore  \n",
              "0  1,009,805       NaN         NaN  \n",
              "1     70,363       NaN         NaN  \n",
              "2    415,053       NaN         NaN  \n",
              "3    144,451       NaN         NaN  \n",
              "4    350,289  $179.80M  50          "
            ],
            "text/html": [
              "\n",
              "  <div id=\"df-afb26f0c-1f41-480d-b943-8e4b86f69f89\">\n",
              "    <div class=\"colab-df-container\">\n",
              "      <div>\n",
              "<style scoped>\n",
              "    .dataframe tbody tr th:only-of-type {\n",
              "        vertical-align: middle;\n",
              "    }\n",
              "\n",
              "    .dataframe tbody tr th {\n",
              "        vertical-align: top;\n",
              "    }\n",
              "\n",
              "    .dataframe thead th {\n",
              "        text-align: right;\n",
              "    }\n",
              "</style>\n",
              "<table border=\"1\" class=\"dataframe\">\n",
              "  <thead>\n",
              "    <tr style=\"text-align: right;\">\n",
              "      <th></th>\n",
              "      <th>title</th>\n",
              "      <th>year</th>\n",
              "      <th>duration</th>\n",
              "      <th>rating</th>\n",
              "      <th>description</th>\n",
              "      <th>director</th>\n",
              "      <th>actors</th>\n",
              "      <th>votes</th>\n",
              "      <th>budget</th>\n",
              "      <th>metascore</th>\n",
              "    </tr>\n",
              "  </thead>\n",
              "  <tbody>\n",
              "    <tr>\n",
              "      <th>0</th>\n",
              "      <td>Stranger Things</td>\n",
              "      <td>2016–</td>\n",
              "      <td>51</td>\n",
              "      <td>8.7</td>\n",
              "      <td>When a young boy disappears, his mother, a pol...</td>\n",
              "      <td>TV-14</td>\n",
              "      <td>[51 min]</td>\n",
              "      <td>1,009,805</td>\n",
              "      <td>NaN</td>\n",
              "      <td>NaN</td>\n",
              "    </tr>\n",
              "    <tr>\n",
              "      <th>1</th>\n",
              "      <td>Top Gun: Maverick</td>\n",
              "      <td>2022</td>\n",
              "      <td>131</td>\n",
              "      <td>8.7</td>\n",
              "      <td>After more than thirty years of service as one...</td>\n",
              "      <td>PG-13</td>\n",
              "      <td>[131 min]</td>\n",
              "      <td>70,363</td>\n",
              "      <td>NaN</td>\n",
              "      <td>NaN</td>\n",
              "    </tr>\n",
              "    <tr>\n",
              "      <th>2</th>\n",
              "      <td>Better Call Saul</td>\n",
              "      <td>2015–2022</td>\n",
              "      <td>46</td>\n",
              "      <td>8.8</td>\n",
              "      <td>The trials and tribulations of criminal lawyer...</td>\n",
              "      <td>TV-MA</td>\n",
              "      <td>[46 min]</td>\n",
              "      <td>415,053</td>\n",
              "      <td>NaN</td>\n",
              "      <td>NaN</td>\n",
              "    </tr>\n",
              "    <tr>\n",
              "      <th>3</th>\n",
              "      <td>Love, Death &amp; Robots</td>\n",
              "      <td>2019–</td>\n",
              "      <td>15</td>\n",
              "      <td>8.4</td>\n",
              "      <td>A collection of animated short stories that sp...</td>\n",
              "      <td>TV-MA</td>\n",
              "      <td>[15 min]</td>\n",
              "      <td>144,451</td>\n",
              "      <td>NaN</td>\n",
              "      <td>NaN</td>\n",
              "    </tr>\n",
              "    <tr>\n",
              "      <th>4</th>\n",
              "      <td>Top Gun</td>\n",
              "      <td>1986</td>\n",
              "      <td>110</td>\n",
              "      <td>6.9</td>\n",
              "      <td>As students at the United States Navy's elite ...</td>\n",
              "      <td>PG</td>\n",
              "      <td>[110 min]</td>\n",
              "      <td>350,289</td>\n",
              "      <td>$179.80M</td>\n",
              "      <td>50</td>\n",
              "    </tr>\n",
              "  </tbody>\n",
              "</table>\n",
              "</div>\n",
              "      <button class=\"colab-df-convert\" onclick=\"convertToInteractive('df-afb26f0c-1f41-480d-b943-8e4b86f69f89')\"\n",
              "              title=\"Convert this dataframe to an interactive table.\"\n",
              "              style=\"display:none;\">\n",
              "        \n",
              "  <svg xmlns=\"http://www.w3.org/2000/svg\" height=\"24px\"viewBox=\"0 0 24 24\"\n",
              "       width=\"24px\">\n",
              "    <path d=\"M0 0h24v24H0V0z\" fill=\"none\"/>\n",
              "    <path d=\"M18.56 5.44l.94 2.06.94-2.06 2.06-.94-2.06-.94-.94-2.06-.94 2.06-2.06.94zm-11 1L8.5 8.5l.94-2.06 2.06-.94-2.06-.94L8.5 2.5l-.94 2.06-2.06.94zm10 10l.94 2.06.94-2.06 2.06-.94-2.06-.94-.94-2.06-.94 2.06-2.06.94z\"/><path d=\"M17.41 7.96l-1.37-1.37c-.4-.4-.92-.59-1.43-.59-.52 0-1.04.2-1.43.59L10.3 9.45l-7.72 7.72c-.78.78-.78 2.05 0 2.83L4 21.41c.39.39.9.59 1.41.59.51 0 1.02-.2 1.41-.59l7.78-7.78 2.81-2.81c.8-.78.8-2.07 0-2.86zM5.41 20L4 18.59l7.72-7.72 1.47 1.35L5.41 20z\"/>\n",
              "  </svg>\n",
              "      </button>\n",
              "      \n",
              "  <style>\n",
              "    .colab-df-container {\n",
              "      display:flex;\n",
              "      flex-wrap:wrap;\n",
              "      gap: 12px;\n",
              "    }\n",
              "\n",
              "    .colab-df-convert {\n",
              "      background-color: #E8F0FE;\n",
              "      border: none;\n",
              "      border-radius: 50%;\n",
              "      cursor: pointer;\n",
              "      display: none;\n",
              "      fill: #1967D2;\n",
              "      height: 32px;\n",
              "      padding: 0 0 0 0;\n",
              "      width: 32px;\n",
              "    }\n",
              "\n",
              "    .colab-df-convert:hover {\n",
              "      background-color: #E2EBFA;\n",
              "      box-shadow: 0px 1px 2px rgba(60, 64, 67, 0.3), 0px 1px 3px 1px rgba(60, 64, 67, 0.15);\n",
              "      fill: #174EA6;\n",
              "    }\n",
              "\n",
              "    [theme=dark] .colab-df-convert {\n",
              "      background-color: #3B4455;\n",
              "      fill: #D2E3FC;\n",
              "    }\n",
              "\n",
              "    [theme=dark] .colab-df-convert:hover {\n",
              "      background-color: #434B5C;\n",
              "      box-shadow: 0px 1px 3px 1px rgba(0, 0, 0, 0.15);\n",
              "      filter: drop-shadow(0px 1px 2px rgba(0, 0, 0, 0.3));\n",
              "      fill: #FFFFFF;\n",
              "    }\n",
              "  </style>\n",
              "\n",
              "      <script>\n",
              "        const buttonEl =\n",
              "          document.querySelector('#df-afb26f0c-1f41-480d-b943-8e4b86f69f89 button.colab-df-convert');\n",
              "        buttonEl.style.display =\n",
              "          google.colab.kernel.accessAllowed ? 'block' : 'none';\n",
              "\n",
              "        async function convertToInteractive(key) {\n",
              "          const element = document.querySelector('#df-afb26f0c-1f41-480d-b943-8e4b86f69f89');\n",
              "          const dataTable =\n",
              "            await google.colab.kernel.invokeFunction('convertToInteractive',\n",
              "                                                     [key], {});\n",
              "          if (!dataTable) return;\n",
              "\n",
              "          const docLinkHtml = 'Like what you see? Visit the ' +\n",
              "            '<a target=\"_blank\" href=https://colab.research.google.com/notebooks/data_table.ipynb>data table notebook</a>'\n",
              "            + ' to learn more about interactive tables.';\n",
              "          element.innerHTML = '';\n",
              "          dataTable['output_type'] = 'display_data';\n",
              "          await google.colab.output.renderOutput(dataTable, element);\n",
              "          const docLink = document.createElement('div');\n",
              "          docLink.innerHTML = docLinkHtml;\n",
              "          element.appendChild(docLink);\n",
              "        }\n",
              "      </script>\n",
              "    </div>\n",
              "  </div>\n",
              "  "
            ]
          },
          "metadata": {},
          "execution_count": 91
        }
      ]
    },
    {
      "cell_type": "code",
      "source": [
        "# Getting last 4 numbers of your\n",
        "for i in range(len(movies)):\n",
        "  movies.iloc[i,1]=movies.iloc[i,1][-4:]\n"
      ],
      "metadata": {
        "id": "TITYpKq4XPEA"
      },
      "execution_count": 92,
      "outputs": []
    },
    {
      "cell_type": "code",
      "source": [
        "# Importing second dataset\n",
        "movies_kaggle = pd.read_csv('/content/drive/MyDrive/PythonProjectsSimplilearn/IMDbDataset/movies_metadata.csv')"
      ],
      "metadata": {
        "colab": {
          "base_uri": "https://localhost:8080/"
        },
        "id": "rCA9mG2kXjtU",
        "outputId": "9c35b591-5bd0-488f-bb58-9799fcc28797"
      },
      "execution_count": 93,
      "outputs": [
        {
          "output_type": "stream",
          "name": "stderr",
          "text": [
            "/usr/local/lib/python3.7/dist-packages/IPython/core/interactiveshell.py:2882: DtypeWarning: Columns (10) have mixed types.Specify dtype option on import or set low_memory=False.\n",
            "  exec(code_obj, self.user_global_ns, self.user_ns)\n"
          ]
        }
      ]
    },
    {
      "cell_type": "code",
      "source": [
        ""
      ],
      "metadata": {
        "id": "sos5lJhPZT8Y"
      },
      "execution_count": 93,
      "outputs": []
    },
    {
      "cell_type": "code",
      "source": [
        "movies_kaggle.columns"
      ],
      "metadata": {
        "colab": {
          "base_uri": "https://localhost:8080/"
        },
        "id": "TB_eLsP8ZkKc",
        "outputId": "a568b71b-d34b-4cd6-d2c6-2812066bc91c"
      },
      "execution_count": 94,
      "outputs": [
        {
          "output_type": "execute_result",
          "data": {
            "text/plain": [
              "Index(['adult', 'belongs_to_collection', 'budget', 'genres', 'homepage', 'id',\n",
              "       'imdb_id', 'original_language', 'original_title', 'overview',\n",
              "       'popularity', 'poster_path', 'production_companies',\n",
              "       'production_countries', 'release_date', 'revenue', 'runtime',\n",
              "       'spoken_languages', 'status', 'tagline', 'title', 'video',\n",
              "       'vote_average', 'vote_count'],\n",
              "      dtype='object')"
            ]
          },
          "metadata": {},
          "execution_count": 94
        }
      ]
    },
    {
      "cell_type": "code",
      "source": [
        "movies_kaggle.head()"
      ],
      "metadata": {
        "colab": {
          "base_uri": "https://localhost:8080/",
          "height": 751
        },
        "id": "ysAMIZ67Zpcn",
        "outputId": "b35c9025-cca3-4335-854a-04e34d9933c5"
      },
      "execution_count": 95,
      "outputs": [
        {
          "output_type": "execute_result",
          "data": {
            "text/plain": [
              "   adult                              belongs_to_collection    budget  \\\n",
              "0  False  {'id': 10194, 'name': 'Toy Story Collection', ...  30000000   \n",
              "1  False                                                NaN  65000000   \n",
              "2  False  {'id': 119050, 'name': 'Grumpy Old Men Collect...         0   \n",
              "3  False                                                NaN  16000000   \n",
              "4  False  {'id': 96871, 'name': 'Father of the Bride Col...         0   \n",
              "\n",
              "                                              genres  \\\n",
              "0  [{'id': 16, 'name': 'Animation'}, {'id': 35, '...   \n",
              "1  [{'id': 12, 'name': 'Adventure'}, {'id': 14, '...   \n",
              "2  [{'id': 10749, 'name': 'Romance'}, {'id': 35, ...   \n",
              "3  [{'id': 35, 'name': 'Comedy'}, {'id': 18, 'nam...   \n",
              "4                     [{'id': 35, 'name': 'Comedy'}]   \n",
              "\n",
              "                               homepage     id    imdb_id original_language  \\\n",
              "0  http://toystory.disney.com/toy-story    862  tt0114709                en   \n",
              "1                                   NaN   8844  tt0113497                en   \n",
              "2                                   NaN  15602  tt0113228                en   \n",
              "3                                   NaN  31357  tt0114885                en   \n",
              "4                                   NaN  11862  tt0113041                en   \n",
              "\n",
              "                original_title  \\\n",
              "0                    Toy Story   \n",
              "1                      Jumanji   \n",
              "2             Grumpier Old Men   \n",
              "3            Waiting to Exhale   \n",
              "4  Father of the Bride Part II   \n",
              "\n",
              "                                            overview  ... release_date  \\\n",
              "0  Led by Woody, Andy's toys live happily in his ...  ...   1995-10-30   \n",
              "1  When siblings Judy and Peter discover an encha...  ...   1995-12-15   \n",
              "2  A family wedding reignites the ancient feud be...  ...   1995-12-22   \n",
              "3  Cheated on, mistreated and stepped on, the wom...  ...   1995-12-22   \n",
              "4  Just when George Banks has recovered from his ...  ...   1995-02-10   \n",
              "\n",
              "       revenue runtime                                   spoken_languages  \\\n",
              "0  373554033.0    81.0           [{'iso_639_1': 'en', 'name': 'English'}]   \n",
              "1  262797249.0   104.0  [{'iso_639_1': 'en', 'name': 'English'}, {'iso...   \n",
              "2          0.0   101.0           [{'iso_639_1': 'en', 'name': 'English'}]   \n",
              "3   81452156.0   127.0           [{'iso_639_1': 'en', 'name': 'English'}]   \n",
              "4   76578911.0   106.0           [{'iso_639_1': 'en', 'name': 'English'}]   \n",
              "\n",
              "     status                                            tagline  \\\n",
              "0  Released                                                NaN   \n",
              "1  Released          Roll the dice and unleash the excitement!   \n",
              "2  Released  Still Yelling. Still Fighting. Still Ready for...   \n",
              "3  Released  Friends are the people who let you be yourself...   \n",
              "4  Released  Just When His World Is Back To Normal... He's ...   \n",
              "\n",
              "                         title  video vote_average vote_count  \n",
              "0                    Toy Story  False          7.7     5415.0  \n",
              "1                      Jumanji  False          6.9     2413.0  \n",
              "2             Grumpier Old Men  False          6.5       92.0  \n",
              "3            Waiting to Exhale  False          6.1       34.0  \n",
              "4  Father of the Bride Part II  False          5.7      173.0  \n",
              "\n",
              "[5 rows x 24 columns]"
            ],
            "text/html": [
              "\n",
              "  <div id=\"df-7352959b-d400-4b3b-a204-da81eb6f4fe8\">\n",
              "    <div class=\"colab-df-container\">\n",
              "      <div>\n",
              "<style scoped>\n",
              "    .dataframe tbody tr th:only-of-type {\n",
              "        vertical-align: middle;\n",
              "    }\n",
              "\n",
              "    .dataframe tbody tr th {\n",
              "        vertical-align: top;\n",
              "    }\n",
              "\n",
              "    .dataframe thead th {\n",
              "        text-align: right;\n",
              "    }\n",
              "</style>\n",
              "<table border=\"1\" class=\"dataframe\">\n",
              "  <thead>\n",
              "    <tr style=\"text-align: right;\">\n",
              "      <th></th>\n",
              "      <th>adult</th>\n",
              "      <th>belongs_to_collection</th>\n",
              "      <th>budget</th>\n",
              "      <th>genres</th>\n",
              "      <th>homepage</th>\n",
              "      <th>id</th>\n",
              "      <th>imdb_id</th>\n",
              "      <th>original_language</th>\n",
              "      <th>original_title</th>\n",
              "      <th>overview</th>\n",
              "      <th>...</th>\n",
              "      <th>release_date</th>\n",
              "      <th>revenue</th>\n",
              "      <th>runtime</th>\n",
              "      <th>spoken_languages</th>\n",
              "      <th>status</th>\n",
              "      <th>tagline</th>\n",
              "      <th>title</th>\n",
              "      <th>video</th>\n",
              "      <th>vote_average</th>\n",
              "      <th>vote_count</th>\n",
              "    </tr>\n",
              "  </thead>\n",
              "  <tbody>\n",
              "    <tr>\n",
              "      <th>0</th>\n",
              "      <td>False</td>\n",
              "      <td>{'id': 10194, 'name': 'Toy Story Collection', ...</td>\n",
              "      <td>30000000</td>\n",
              "      <td>[{'id': 16, 'name': 'Animation'}, {'id': 35, '...</td>\n",
              "      <td>http://toystory.disney.com/toy-story</td>\n",
              "      <td>862</td>\n",
              "      <td>tt0114709</td>\n",
              "      <td>en</td>\n",
              "      <td>Toy Story</td>\n",
              "      <td>Led by Woody, Andy's toys live happily in his ...</td>\n",
              "      <td>...</td>\n",
              "      <td>1995-10-30</td>\n",
              "      <td>373554033.0</td>\n",
              "      <td>81.0</td>\n",
              "      <td>[{'iso_639_1': 'en', 'name': 'English'}]</td>\n",
              "      <td>Released</td>\n",
              "      <td>NaN</td>\n",
              "      <td>Toy Story</td>\n",
              "      <td>False</td>\n",
              "      <td>7.7</td>\n",
              "      <td>5415.0</td>\n",
              "    </tr>\n",
              "    <tr>\n",
              "      <th>1</th>\n",
              "      <td>False</td>\n",
              "      <td>NaN</td>\n",
              "      <td>65000000</td>\n",
              "      <td>[{'id': 12, 'name': 'Adventure'}, {'id': 14, '...</td>\n",
              "      <td>NaN</td>\n",
              "      <td>8844</td>\n",
              "      <td>tt0113497</td>\n",
              "      <td>en</td>\n",
              "      <td>Jumanji</td>\n",
              "      <td>When siblings Judy and Peter discover an encha...</td>\n",
              "      <td>...</td>\n",
              "      <td>1995-12-15</td>\n",
              "      <td>262797249.0</td>\n",
              "      <td>104.0</td>\n",
              "      <td>[{'iso_639_1': 'en', 'name': 'English'}, {'iso...</td>\n",
              "      <td>Released</td>\n",
              "      <td>Roll the dice and unleash the excitement!</td>\n",
              "      <td>Jumanji</td>\n",
              "      <td>False</td>\n",
              "      <td>6.9</td>\n",
              "      <td>2413.0</td>\n",
              "    </tr>\n",
              "    <tr>\n",
              "      <th>2</th>\n",
              "      <td>False</td>\n",
              "      <td>{'id': 119050, 'name': 'Grumpy Old Men Collect...</td>\n",
              "      <td>0</td>\n",
              "      <td>[{'id': 10749, 'name': 'Romance'}, {'id': 35, ...</td>\n",
              "      <td>NaN</td>\n",
              "      <td>15602</td>\n",
              "      <td>tt0113228</td>\n",
              "      <td>en</td>\n",
              "      <td>Grumpier Old Men</td>\n",
              "      <td>A family wedding reignites the ancient feud be...</td>\n",
              "      <td>...</td>\n",
              "      <td>1995-12-22</td>\n",
              "      <td>0.0</td>\n",
              "      <td>101.0</td>\n",
              "      <td>[{'iso_639_1': 'en', 'name': 'English'}]</td>\n",
              "      <td>Released</td>\n",
              "      <td>Still Yelling. Still Fighting. Still Ready for...</td>\n",
              "      <td>Grumpier Old Men</td>\n",
              "      <td>False</td>\n",
              "      <td>6.5</td>\n",
              "      <td>92.0</td>\n",
              "    </tr>\n",
              "    <tr>\n",
              "      <th>3</th>\n",
              "      <td>False</td>\n",
              "      <td>NaN</td>\n",
              "      <td>16000000</td>\n",
              "      <td>[{'id': 35, 'name': 'Comedy'}, {'id': 18, 'nam...</td>\n",
              "      <td>NaN</td>\n",
              "      <td>31357</td>\n",
              "      <td>tt0114885</td>\n",
              "      <td>en</td>\n",
              "      <td>Waiting to Exhale</td>\n",
              "      <td>Cheated on, mistreated and stepped on, the wom...</td>\n",
              "      <td>...</td>\n",
              "      <td>1995-12-22</td>\n",
              "      <td>81452156.0</td>\n",
              "      <td>127.0</td>\n",
              "      <td>[{'iso_639_1': 'en', 'name': 'English'}]</td>\n",
              "      <td>Released</td>\n",
              "      <td>Friends are the people who let you be yourself...</td>\n",
              "      <td>Waiting to Exhale</td>\n",
              "      <td>False</td>\n",
              "      <td>6.1</td>\n",
              "      <td>34.0</td>\n",
              "    </tr>\n",
              "    <tr>\n",
              "      <th>4</th>\n",
              "      <td>False</td>\n",
              "      <td>{'id': 96871, 'name': 'Father of the Bride Col...</td>\n",
              "      <td>0</td>\n",
              "      <td>[{'id': 35, 'name': 'Comedy'}]</td>\n",
              "      <td>NaN</td>\n",
              "      <td>11862</td>\n",
              "      <td>tt0113041</td>\n",
              "      <td>en</td>\n",
              "      <td>Father of the Bride Part II</td>\n",
              "      <td>Just when George Banks has recovered from his ...</td>\n",
              "      <td>...</td>\n",
              "      <td>1995-02-10</td>\n",
              "      <td>76578911.0</td>\n",
              "      <td>106.0</td>\n",
              "      <td>[{'iso_639_1': 'en', 'name': 'English'}]</td>\n",
              "      <td>Released</td>\n",
              "      <td>Just When His World Is Back To Normal... He's ...</td>\n",
              "      <td>Father of the Bride Part II</td>\n",
              "      <td>False</td>\n",
              "      <td>5.7</td>\n",
              "      <td>173.0</td>\n",
              "    </tr>\n",
              "  </tbody>\n",
              "</table>\n",
              "<p>5 rows × 24 columns</p>\n",
              "</div>\n",
              "      <button class=\"colab-df-convert\" onclick=\"convertToInteractive('df-7352959b-d400-4b3b-a204-da81eb6f4fe8')\"\n",
              "              title=\"Convert this dataframe to an interactive table.\"\n",
              "              style=\"display:none;\">\n",
              "        \n",
              "  <svg xmlns=\"http://www.w3.org/2000/svg\" height=\"24px\"viewBox=\"0 0 24 24\"\n",
              "       width=\"24px\">\n",
              "    <path d=\"M0 0h24v24H0V0z\" fill=\"none\"/>\n",
              "    <path d=\"M18.56 5.44l.94 2.06.94-2.06 2.06-.94-2.06-.94-.94-2.06-.94 2.06-2.06.94zm-11 1L8.5 8.5l.94-2.06 2.06-.94-2.06-.94L8.5 2.5l-.94 2.06-2.06.94zm10 10l.94 2.06.94-2.06 2.06-.94-2.06-.94-.94-2.06-.94 2.06-2.06.94z\"/><path d=\"M17.41 7.96l-1.37-1.37c-.4-.4-.92-.59-1.43-.59-.52 0-1.04.2-1.43.59L10.3 9.45l-7.72 7.72c-.78.78-.78 2.05 0 2.83L4 21.41c.39.39.9.59 1.41.59.51 0 1.02-.2 1.41-.59l7.78-7.78 2.81-2.81c.8-.78.8-2.07 0-2.86zM5.41 20L4 18.59l7.72-7.72 1.47 1.35L5.41 20z\"/>\n",
              "  </svg>\n",
              "      </button>\n",
              "      \n",
              "  <style>\n",
              "    .colab-df-container {\n",
              "      display:flex;\n",
              "      flex-wrap:wrap;\n",
              "      gap: 12px;\n",
              "    }\n",
              "\n",
              "    .colab-df-convert {\n",
              "      background-color: #E8F0FE;\n",
              "      border: none;\n",
              "      border-radius: 50%;\n",
              "      cursor: pointer;\n",
              "      display: none;\n",
              "      fill: #1967D2;\n",
              "      height: 32px;\n",
              "      padding: 0 0 0 0;\n",
              "      width: 32px;\n",
              "    }\n",
              "\n",
              "    .colab-df-convert:hover {\n",
              "      background-color: #E2EBFA;\n",
              "      box-shadow: 0px 1px 2px rgba(60, 64, 67, 0.3), 0px 1px 3px 1px rgba(60, 64, 67, 0.15);\n",
              "      fill: #174EA6;\n",
              "    }\n",
              "\n",
              "    [theme=dark] .colab-df-convert {\n",
              "      background-color: #3B4455;\n",
              "      fill: #D2E3FC;\n",
              "    }\n",
              "\n",
              "    [theme=dark] .colab-df-convert:hover {\n",
              "      background-color: #434B5C;\n",
              "      box-shadow: 0px 1px 3px 1px rgba(0, 0, 0, 0.15);\n",
              "      filter: drop-shadow(0px 1px 2px rgba(0, 0, 0, 0.3));\n",
              "      fill: #FFFFFF;\n",
              "    }\n",
              "  </style>\n",
              "\n",
              "      <script>\n",
              "        const buttonEl =\n",
              "          document.querySelector('#df-7352959b-d400-4b3b-a204-da81eb6f4fe8 button.colab-df-convert');\n",
              "        buttonEl.style.display =\n",
              "          google.colab.kernel.accessAllowed ? 'block' : 'none';\n",
              "\n",
              "        async function convertToInteractive(key) {\n",
              "          const element = document.querySelector('#df-7352959b-d400-4b3b-a204-da81eb6f4fe8');\n",
              "          const dataTable =\n",
              "            await google.colab.kernel.invokeFunction('convertToInteractive',\n",
              "                                                     [key], {});\n",
              "          if (!dataTable) return;\n",
              "\n",
              "          const docLinkHtml = 'Like what you see? Visit the ' +\n",
              "            '<a target=\"_blank\" href=https://colab.research.google.com/notebooks/data_table.ipynb>data table notebook</a>'\n",
              "            + ' to learn more about interactive tables.';\n",
              "          element.innerHTML = '';\n",
              "          dataTable['output_type'] = 'display_data';\n",
              "          await google.colab.output.renderOutput(dataTable, element);\n",
              "          const docLink = document.createElement('div');\n",
              "          docLink.innerHTML = docLinkHtml;\n",
              "          element.appendChild(docLink);\n",
              "        }\n",
              "      </script>\n",
              "    </div>\n",
              "  </div>\n",
              "  "
            ]
          },
          "metadata": {},
          "execution_count": 95
        }
      ]
    },
    {
      "cell_type": "code",
      "source": [
        "# Dropping cloumns that will not be used\n",
        "movies_kaggle=movies_kaggle.drop(columns=['belongs_to_collection','budget','homepage','id','imdb_id','original_title','overview','runtime',\n",
        "                                          'spoken_languages','status','tagline','video','vote_average','vote_count'],axis=1);"
      ],
      "metadata": {
        "id": "Z6pObfEKZtfn"
      },
      "execution_count": 96,
      "outputs": []
    },
    {
      "cell_type": "code",
      "source": [
        "# Removing duplicates\n",
        "movies_kaggle=movies_kaggle.drop_duplicates(subset=\"title\",keep=False)"
      ],
      "metadata": {
        "id": "F36Jbv_daVZS"
      },
      "execution_count": 97,
      "outputs": []
    },
    {
      "cell_type": "code",
      "source": [
        "# Getting last 4 numbers of the year\n",
        "for i in range(len(movies_kaggle)):\n",
        "  if (pd.notnull(movies_kaggle.iloc[i,7])):\n",
        "    movies_kaggle.iloc[i,7]=movies_kaggle.iloc[i,7][0:4]"
      ],
      "metadata": {
        "id": "nr8ONLHRaizE"
      },
      "execution_count": 98,
      "outputs": []
    },
    {
      "cell_type": "code",
      "source": [
        "# Joining the 2 dataset\n",
        "movies_ratings = pd.merge(movies,movies_kaggle,left_on=['title','year'],right_on=['title','release_date'])"
      ],
      "metadata": {
        "id": "DVT3I8fBa8pE"
      },
      "execution_count": 99,
      "outputs": []
    },
    {
      "cell_type": "code",
      "source": [
        "movies_ratings.head()"
      ],
      "metadata": {
        "colab": {
          "base_uri": "https://localhost:8080/",
          "height": 634
        },
        "id": "nLTH0UF8bcIz",
        "outputId": "1254b815-a909-4403-d20f-013623cf51af"
      },
      "execution_count": 100,
      "outputs": [
        {
          "output_type": "execute_result",
          "data": {
            "text/plain": [
              "                                               title  year duration rating  \\\n",
              "0                                            Top Gun  1986      110    6.9   \n",
              "1                                      The Godfather  1972      175    9.2   \n",
              "2                                      The Rum Diary  2011      119    6.1   \n",
              "3                                 The Lincoln Lawyer  2011      118    7.3   \n",
              "4  Pirates of the Caribbean: The Curse of the Bla...  2003      143    8.0   \n",
              "\n",
              "                                         description director     actors  \\\n",
              "0  As students at the United States Navy's elite ...       PG  [110 min]   \n",
              "1  The aging patriarch of an organized crime dyna...        R  [175 min]   \n",
              "2  American journalist Paul Kemp takes on a freel...        R  [119 min]   \n",
              "3  A lawyer defending a wealthy man begins to bel...        R  [118 min]   \n",
              "4  Blacksmith Will Turner teams up with eccentric...    PG-13  [143 min]   \n",
              "\n",
              "       votes    budget   metascore  adult  \\\n",
              "0    350,289  $179.80M  50          False   \n",
              "1  1,788,224  $134.97M         NaN  False   \n",
              "2    103,981   $13.10M  56          False   \n",
              "3    233,604   $58.01M         NaN  False   \n",
              "4  1,091,047  $305.41M         NaN  False   \n",
              "\n",
              "                                              genres original_language  \\\n",
              "0  [{'id': 28, 'name': 'Action'}, {'id': 10749, '...                en   \n",
              "1  [{'id': 18, 'name': 'Drama'}, {'id': 80, 'name...                en   \n",
              "2  [{'id': 18, 'name': 'Drama'}, {'id': 35, 'name...                en   \n",
              "3  [{'id': 80, 'name': 'Crime'}, {'id': 18, 'name...                en   \n",
              "4  [{'id': 12, 'name': 'Adventure'}, {'id': 14, '...                en   \n",
              "\n",
              "  popularity                       poster_path  \\\n",
              "0  20.301019  /orGXnBKfT41LxZhitLkXhqUfJJW.jpg   \n",
              "1  41.109264  /rPdtLWNsZmAtoZl9PK7S2wE3qiS.jpg   \n",
              "2  10.110504  /hYtMOXjSur5QccB4pZYWbKHMDor.jpg   \n",
              "3   6.807442  /bTXtxFUyqQ6T9FRa3ajSdMtwnAj.jpg   \n",
              "4  47.326665  /tkt9xR1kNX5R9rCebASKck44si2.jpg   \n",
              "\n",
              "                                production_companies  \\\n",
              "0          [{'name': 'Paramount Pictures', 'id': 4}]   \n",
              "1  [{'name': 'Paramount Pictures', 'id': 4}, {'na...   \n",
              "2  [{'name': 'FilmEngine', 'id': 816}, {'name': '...   \n",
              "3  [{'name': 'Lakeshore Entertainment', 'id': 126...   \n",
              "4  [{'name': 'Walt Disney Pictures', 'id': 2}, {'...   \n",
              "\n",
              "                                production_countries release_date      revenue  \n",
              "0  [{'iso_3166_1': 'US', 'name': 'United States o...         1986  356830601.0  \n",
              "1  [{'iso_3166_1': 'US', 'name': 'United States o...         1972  245066411.0  \n",
              "2  [{'iso_3166_1': 'US', 'name': 'United States o...         2011   24000000.0  \n",
              "3  [{'iso_3166_1': 'US', 'name': 'United States o...         2011   85412898.0  \n",
              "4  [{'iso_3166_1': 'US', 'name': 'United States o...         2003  655011224.0  "
            ],
            "text/html": [
              "\n",
              "  <div id=\"df-d1fc2ce9-9ed7-4e29-a998-8cb580d574c9\">\n",
              "    <div class=\"colab-df-container\">\n",
              "      <div>\n",
              "<style scoped>\n",
              "    .dataframe tbody tr th:only-of-type {\n",
              "        vertical-align: middle;\n",
              "    }\n",
              "\n",
              "    .dataframe tbody tr th {\n",
              "        vertical-align: top;\n",
              "    }\n",
              "\n",
              "    .dataframe thead th {\n",
              "        text-align: right;\n",
              "    }\n",
              "</style>\n",
              "<table border=\"1\" class=\"dataframe\">\n",
              "  <thead>\n",
              "    <tr style=\"text-align: right;\">\n",
              "      <th></th>\n",
              "      <th>title</th>\n",
              "      <th>year</th>\n",
              "      <th>duration</th>\n",
              "      <th>rating</th>\n",
              "      <th>description</th>\n",
              "      <th>director</th>\n",
              "      <th>actors</th>\n",
              "      <th>votes</th>\n",
              "      <th>budget</th>\n",
              "      <th>metascore</th>\n",
              "      <th>adult</th>\n",
              "      <th>genres</th>\n",
              "      <th>original_language</th>\n",
              "      <th>popularity</th>\n",
              "      <th>poster_path</th>\n",
              "      <th>production_companies</th>\n",
              "      <th>production_countries</th>\n",
              "      <th>release_date</th>\n",
              "      <th>revenue</th>\n",
              "    </tr>\n",
              "  </thead>\n",
              "  <tbody>\n",
              "    <tr>\n",
              "      <th>0</th>\n",
              "      <td>Top Gun</td>\n",
              "      <td>1986</td>\n",
              "      <td>110</td>\n",
              "      <td>6.9</td>\n",
              "      <td>As students at the United States Navy's elite ...</td>\n",
              "      <td>PG</td>\n",
              "      <td>[110 min]</td>\n",
              "      <td>350,289</td>\n",
              "      <td>$179.80M</td>\n",
              "      <td>50</td>\n",
              "      <td>False</td>\n",
              "      <td>[{'id': 28, 'name': 'Action'}, {'id': 10749, '...</td>\n",
              "      <td>en</td>\n",
              "      <td>20.301019</td>\n",
              "      <td>/orGXnBKfT41LxZhitLkXhqUfJJW.jpg</td>\n",
              "      <td>[{'name': 'Paramount Pictures', 'id': 4}]</td>\n",
              "      <td>[{'iso_3166_1': 'US', 'name': 'United States o...</td>\n",
              "      <td>1986</td>\n",
              "      <td>356830601.0</td>\n",
              "    </tr>\n",
              "    <tr>\n",
              "      <th>1</th>\n",
              "      <td>The Godfather</td>\n",
              "      <td>1972</td>\n",
              "      <td>175</td>\n",
              "      <td>9.2</td>\n",
              "      <td>The aging patriarch of an organized crime dyna...</td>\n",
              "      <td>R</td>\n",
              "      <td>[175 min]</td>\n",
              "      <td>1,788,224</td>\n",
              "      <td>$134.97M</td>\n",
              "      <td>NaN</td>\n",
              "      <td>False</td>\n",
              "      <td>[{'id': 18, 'name': 'Drama'}, {'id': 80, 'name...</td>\n",
              "      <td>en</td>\n",
              "      <td>41.109264</td>\n",
              "      <td>/rPdtLWNsZmAtoZl9PK7S2wE3qiS.jpg</td>\n",
              "      <td>[{'name': 'Paramount Pictures', 'id': 4}, {'na...</td>\n",
              "      <td>[{'iso_3166_1': 'US', 'name': 'United States o...</td>\n",
              "      <td>1972</td>\n",
              "      <td>245066411.0</td>\n",
              "    </tr>\n",
              "    <tr>\n",
              "      <th>2</th>\n",
              "      <td>The Rum Diary</td>\n",
              "      <td>2011</td>\n",
              "      <td>119</td>\n",
              "      <td>6.1</td>\n",
              "      <td>American journalist Paul Kemp takes on a freel...</td>\n",
              "      <td>R</td>\n",
              "      <td>[119 min]</td>\n",
              "      <td>103,981</td>\n",
              "      <td>$13.10M</td>\n",
              "      <td>56</td>\n",
              "      <td>False</td>\n",
              "      <td>[{'id': 18, 'name': 'Drama'}, {'id': 35, 'name...</td>\n",
              "      <td>en</td>\n",
              "      <td>10.110504</td>\n",
              "      <td>/hYtMOXjSur5QccB4pZYWbKHMDor.jpg</td>\n",
              "      <td>[{'name': 'FilmEngine', 'id': 816}, {'name': '...</td>\n",
              "      <td>[{'iso_3166_1': 'US', 'name': 'United States o...</td>\n",
              "      <td>2011</td>\n",
              "      <td>24000000.0</td>\n",
              "    </tr>\n",
              "    <tr>\n",
              "      <th>3</th>\n",
              "      <td>The Lincoln Lawyer</td>\n",
              "      <td>2011</td>\n",
              "      <td>118</td>\n",
              "      <td>7.3</td>\n",
              "      <td>A lawyer defending a wealthy man begins to bel...</td>\n",
              "      <td>R</td>\n",
              "      <td>[118 min]</td>\n",
              "      <td>233,604</td>\n",
              "      <td>$58.01M</td>\n",
              "      <td>NaN</td>\n",
              "      <td>False</td>\n",
              "      <td>[{'id': 80, 'name': 'Crime'}, {'id': 18, 'name...</td>\n",
              "      <td>en</td>\n",
              "      <td>6.807442</td>\n",
              "      <td>/bTXtxFUyqQ6T9FRa3ajSdMtwnAj.jpg</td>\n",
              "      <td>[{'name': 'Lakeshore Entertainment', 'id': 126...</td>\n",
              "      <td>[{'iso_3166_1': 'US', 'name': 'United States o...</td>\n",
              "      <td>2011</td>\n",
              "      <td>85412898.0</td>\n",
              "    </tr>\n",
              "    <tr>\n",
              "      <th>4</th>\n",
              "      <td>Pirates of the Caribbean: The Curse of the Bla...</td>\n",
              "      <td>2003</td>\n",
              "      <td>143</td>\n",
              "      <td>8.0</td>\n",
              "      <td>Blacksmith Will Turner teams up with eccentric...</td>\n",
              "      <td>PG-13</td>\n",
              "      <td>[143 min]</td>\n",
              "      <td>1,091,047</td>\n",
              "      <td>$305.41M</td>\n",
              "      <td>NaN</td>\n",
              "      <td>False</td>\n",
              "      <td>[{'id': 12, 'name': 'Adventure'}, {'id': 14, '...</td>\n",
              "      <td>en</td>\n",
              "      <td>47.326665</td>\n",
              "      <td>/tkt9xR1kNX5R9rCebASKck44si2.jpg</td>\n",
              "      <td>[{'name': 'Walt Disney Pictures', 'id': 2}, {'...</td>\n",
              "      <td>[{'iso_3166_1': 'US', 'name': 'United States o...</td>\n",
              "      <td>2003</td>\n",
              "      <td>655011224.0</td>\n",
              "    </tr>\n",
              "  </tbody>\n",
              "</table>\n",
              "</div>\n",
              "      <button class=\"colab-df-convert\" onclick=\"convertToInteractive('df-d1fc2ce9-9ed7-4e29-a998-8cb580d574c9')\"\n",
              "              title=\"Convert this dataframe to an interactive table.\"\n",
              "              style=\"display:none;\">\n",
              "        \n",
              "  <svg xmlns=\"http://www.w3.org/2000/svg\" height=\"24px\"viewBox=\"0 0 24 24\"\n",
              "       width=\"24px\">\n",
              "    <path d=\"M0 0h24v24H0V0z\" fill=\"none\"/>\n",
              "    <path d=\"M18.56 5.44l.94 2.06.94-2.06 2.06-.94-2.06-.94-.94-2.06-.94 2.06-2.06.94zm-11 1L8.5 8.5l.94-2.06 2.06-.94-2.06-.94L8.5 2.5l-.94 2.06-2.06.94zm10 10l.94 2.06.94-2.06 2.06-.94-2.06-.94-.94-2.06-.94 2.06-2.06.94z\"/><path d=\"M17.41 7.96l-1.37-1.37c-.4-.4-.92-.59-1.43-.59-.52 0-1.04.2-1.43.59L10.3 9.45l-7.72 7.72c-.78.78-.78 2.05 0 2.83L4 21.41c.39.39.9.59 1.41.59.51 0 1.02-.2 1.41-.59l7.78-7.78 2.81-2.81c.8-.78.8-2.07 0-2.86zM5.41 20L4 18.59l7.72-7.72 1.47 1.35L5.41 20z\"/>\n",
              "  </svg>\n",
              "      </button>\n",
              "      \n",
              "  <style>\n",
              "    .colab-df-container {\n",
              "      display:flex;\n",
              "      flex-wrap:wrap;\n",
              "      gap: 12px;\n",
              "    }\n",
              "\n",
              "    .colab-df-convert {\n",
              "      background-color: #E8F0FE;\n",
              "      border: none;\n",
              "      border-radius: 50%;\n",
              "      cursor: pointer;\n",
              "      display: none;\n",
              "      fill: #1967D2;\n",
              "      height: 32px;\n",
              "      padding: 0 0 0 0;\n",
              "      width: 32px;\n",
              "    }\n",
              "\n",
              "    .colab-df-convert:hover {\n",
              "      background-color: #E2EBFA;\n",
              "      box-shadow: 0px 1px 2px rgba(60, 64, 67, 0.3), 0px 1px 3px 1px rgba(60, 64, 67, 0.15);\n",
              "      fill: #174EA6;\n",
              "    }\n",
              "\n",
              "    [theme=dark] .colab-df-convert {\n",
              "      background-color: #3B4455;\n",
              "      fill: #D2E3FC;\n",
              "    }\n",
              "\n",
              "    [theme=dark] .colab-df-convert:hover {\n",
              "      background-color: #434B5C;\n",
              "      box-shadow: 0px 1px 3px 1px rgba(0, 0, 0, 0.15);\n",
              "      filter: drop-shadow(0px 1px 2px rgba(0, 0, 0, 0.3));\n",
              "      fill: #FFFFFF;\n",
              "    }\n",
              "  </style>\n",
              "\n",
              "      <script>\n",
              "        const buttonEl =\n",
              "          document.querySelector('#df-d1fc2ce9-9ed7-4e29-a998-8cb580d574c9 button.colab-df-convert');\n",
              "        buttonEl.style.display =\n",
              "          google.colab.kernel.accessAllowed ? 'block' : 'none';\n",
              "\n",
              "        async function convertToInteractive(key) {\n",
              "          const element = document.querySelector('#df-d1fc2ce9-9ed7-4e29-a998-8cb580d574c9');\n",
              "          const dataTable =\n",
              "            await google.colab.kernel.invokeFunction('convertToInteractive',\n",
              "                                                     [key], {});\n",
              "          if (!dataTable) return;\n",
              "\n",
              "          const docLinkHtml = 'Like what you see? Visit the ' +\n",
              "            '<a target=\"_blank\" href=https://colab.research.google.com/notebooks/data_table.ipynb>data table notebook</a>'\n",
              "            + ' to learn more about interactive tables.';\n",
              "          element.innerHTML = '';\n",
              "          dataTable['output_type'] = 'display_data';\n",
              "          await google.colab.output.renderOutput(dataTable, element);\n",
              "          const docLink = document.createElement('div');\n",
              "          docLink.innerHTML = docLinkHtml;\n",
              "          element.appendChild(docLink);\n",
              "        }\n",
              "      </script>\n",
              "    </div>\n",
              "  </div>\n",
              "  "
            ]
          },
          "metadata": {},
          "execution_count": 100
        }
      ]
    },
    {
      "cell_type": "code",
      "source": [
        "len(movies_ratings)"
      ],
      "metadata": {
        "colab": {
          "base_uri": "https://localhost:8080/"
        },
        "id": "mC_qtzedbnFQ",
        "outputId": "b296bd47-1314-4b9d-81bb-d7f2f607b8e4"
      },
      "execution_count": 101,
      "outputs": [
        {
          "output_type": "execute_result",
          "data": {
            "text/plain": [
              "1491"
            ]
          },
          "metadata": {},
          "execution_count": 101
        }
      ]
    },
    {
      "cell_type": "code",
      "source": [
        "movies_ratings.columns"
      ],
      "metadata": {
        "colab": {
          "base_uri": "https://localhost:8080/"
        },
        "id": "1FTvy8mFbrRQ",
        "outputId": "d83657dc-859d-4e50-8d78-ca2b04cb3fb6"
      },
      "execution_count": 102,
      "outputs": [
        {
          "output_type": "execute_result",
          "data": {
            "text/plain": [
              "Index(['title', 'year', 'duration', 'rating', 'description', 'director',\n",
              "       'actors', 'votes', 'budget', 'metascore', 'adult', 'genres',\n",
              "       'original_language', 'popularity', 'poster_path',\n",
              "       'production_companies', 'production_countries', 'release_date',\n",
              "       'revenue'],\n",
              "      dtype='object')"
            ]
          },
          "metadata": {},
          "execution_count": 102
        }
      ]
    },
    {
      "cell_type": "code",
      "source": [
        "movies_ratings=movies_ratings.drop(columns='release_date',axis=1)"
      ],
      "metadata": {
        "id": "EHrN8zjYddFi"
      },
      "execution_count": 103,
      "outputs": []
    },
    {
      "cell_type": "code",
      "source": [
        "# Checking  null values\n",
        "movies_ratings.isnull().sum()"
      ],
      "metadata": {
        "colab": {
          "base_uri": "https://localhost:8080/"
        },
        "id": "Nm-eM3GRdo8A",
        "outputId": "55155020-54c3-4b36-df27-5a7abaec4f68"
      },
      "execution_count": 104,
      "outputs": [
        {
          "output_type": "execute_result",
          "data": {
            "text/plain": [
              "title                     0\n",
              "year                      0\n",
              "duration                  0\n",
              "rating                    0\n",
              "description               0\n",
              "director                  0\n",
              "actors                    0\n",
              "votes                     0\n",
              "budget                   69\n",
              "metascore               987\n",
              "adult                     0\n",
              "genres                    0\n",
              "original_language         0\n",
              "popularity                0\n",
              "poster_path               0\n",
              "production_companies      0\n",
              "production_countries      0\n",
              "revenue                   0\n",
              "dtype: int64"
            ]
          },
          "metadata": {},
          "execution_count": 104
        }
      ]
    },
    {
      "cell_type": "code",
      "source": [
        "movies_ratings[\"duration\"] = movies_ratings[\"duration\"].astype(str).astype(float)\n",
        "movies_ratings[\"rating\"] = movies_ratings[\"rating\"].astype(str).astype(float)\n",
        "# movies_ratings[\"votes\"] = movies_ratings[\"votes\"].astype(str).astype(float)\n",
        "# movies_ratings[\"budget\"] = movies_ratings[\"budget\"].astype(str)\n",
        "movies_ratings[\"metascore\"] = movies_ratings[\"metascore\"].astype(str).astype(float)\n",
        "movies_ratings[\"popularity\"] = movies_ratings[\"popularity\"].astype(str).astype(float)\n",
        "movies_ratings[\"revenue\"] = movies_ratings[\"revenue\"].astype(str).astype(float)"
      ],
      "metadata": {
        "id": "M2rN90ICd1Zn"
      },
      "execution_count": 105,
      "outputs": []
    },
    {
      "cell_type": "code",
      "source": [
        "# Cleaning the budget\n",
        "for i in range(len(movies_ratings)):\n",
        "  if (pd.notnull(movies_ratings.iloc[i,8])):\n",
        "    movies_ratings.iloc[i,8] = movies_ratings.iloc[i,8].strip('$').strip('M')\n",
        "    "
      ],
      "metadata": {
        "id": "1J6cGWItiRe5"
      },
      "execution_count": 106,
      "outputs": []
    },
    {
      "cell_type": "code",
      "source": [
        "movies_ratings[\"budget\"] = movies_ratings[\"budget\"].astype(str).astype(float)"
      ],
      "metadata": {
        "id": "2-mG3m4BirdC"
      },
      "execution_count": 107,
      "outputs": []
    },
    {
      "cell_type": "code",
      "source": [
        "movies_ratings[\"budget\"] = movies_ratings['budget']*1000000"
      ],
      "metadata": {
        "id": "2iQxy-ETi3rQ"
      },
      "execution_count": 108,
      "outputs": []
    },
    {
      "cell_type": "code",
      "source": [
        "movies_ratings[\"title\"] = movies_ratings[\"title\"].astype('str')\n",
        "movies_ratings[\"year\"] = movies_ratings[\"year\"].astype('str').astype('category')\n",
        "movies_ratings[\"director\"] = movies_ratings[\"director\"].astype('str').astype('category')\n",
        "movies_ratings[\"adult\"] = movies_ratings[\"adult\"].astype('str').astype('category')\n",
        "movies_ratings[\"original_language\"] = movies_ratings[\"original_language\"].astype('str').astype('category')"
      ],
      "metadata": {
        "id": "eKuLT2uLi_Ua"
      },
      "execution_count": 109,
      "outputs": []
    },
    {
      "cell_type": "code",
      "source": [
        "# Dropping null values\n",
        "movies_ratings = movies_ratings.dropna(how='any',axis=0)"
      ],
      "metadata": {
        "id": "eODWgkY2j0ND"
      },
      "execution_count": 110,
      "outputs": []
    },
    {
      "cell_type": "markdown",
      "source": [
        "# Exploratory Data Analysis"
      ],
      "metadata": {
        "id": "ph_JLuz-j-c6"
      }
    },
    {
      "cell_type": "code",
      "source": [
        "movies_ratings.describe()"
      ],
      "metadata": {
        "colab": {
          "base_uri": "https://localhost:8080/",
          "height": 300
        },
        "id": "qBbrfB8Pj92n",
        "outputId": "1c9863fc-103e-4f44-bed1-893e0c25b910"
      },
      "execution_count": 111,
      "outputs": [
        {
          "output_type": "execute_result",
          "data": {
            "text/plain": [
              "         duration      rating        budget   metascore  popularity  \\\n",
              "count  496.000000  496.000000  4.960000e+02  496.000000  496.000000   \n",
              "mean   113.629032    6.577016  8.536762e+07   50.790323   13.690211   \n",
              "std     18.297747    0.655201  8.027488e+07    5.873789   25.089837   \n",
              "min     81.000000    3.400000  2.000000e+04   40.000000    0.393865   \n",
              "25%    100.000000    6.200000  3.154250e+07   46.000000    8.576823   \n",
              "50%    110.000000    6.600000  6.115500e+07   51.000000   11.073994   \n",
              "75%    125.000000    7.000000  1.170825e+08   56.000000   14.417171   \n",
              "max    191.000000    8.600000  6.522700e+08   60.000000  547.488298   \n",
              "\n",
              "            revenue  \n",
              "count  4.960000e+02  \n",
              "mean   1.934108e+08  \n",
              "std    2.210584e+08  \n",
              "min    0.000000e+00  \n",
              "25%    4.390872e+07  \n",
              "50%    1.229171e+08  \n",
              "75%    2.589993e+08  \n",
              "max    1.513529e+09  "
            ],
            "text/html": [
              "\n",
              "  <div id=\"df-10b452c5-4b57-4c4c-a0a0-15fe40ff35e6\">\n",
              "    <div class=\"colab-df-container\">\n",
              "      <div>\n",
              "<style scoped>\n",
              "    .dataframe tbody tr th:only-of-type {\n",
              "        vertical-align: middle;\n",
              "    }\n",
              "\n",
              "    .dataframe tbody tr th {\n",
              "        vertical-align: top;\n",
              "    }\n",
              "\n",
              "    .dataframe thead th {\n",
              "        text-align: right;\n",
              "    }\n",
              "</style>\n",
              "<table border=\"1\" class=\"dataframe\">\n",
              "  <thead>\n",
              "    <tr style=\"text-align: right;\">\n",
              "      <th></th>\n",
              "      <th>duration</th>\n",
              "      <th>rating</th>\n",
              "      <th>budget</th>\n",
              "      <th>metascore</th>\n",
              "      <th>popularity</th>\n",
              "      <th>revenue</th>\n",
              "    </tr>\n",
              "  </thead>\n",
              "  <tbody>\n",
              "    <tr>\n",
              "      <th>count</th>\n",
              "      <td>496.000000</td>\n",
              "      <td>496.000000</td>\n",
              "      <td>4.960000e+02</td>\n",
              "      <td>496.000000</td>\n",
              "      <td>496.000000</td>\n",
              "      <td>4.960000e+02</td>\n",
              "    </tr>\n",
              "    <tr>\n",
              "      <th>mean</th>\n",
              "      <td>113.629032</td>\n",
              "      <td>6.577016</td>\n",
              "      <td>8.536762e+07</td>\n",
              "      <td>50.790323</td>\n",
              "      <td>13.690211</td>\n",
              "      <td>1.934108e+08</td>\n",
              "    </tr>\n",
              "    <tr>\n",
              "      <th>std</th>\n",
              "      <td>18.297747</td>\n",
              "      <td>0.655201</td>\n",
              "      <td>8.027488e+07</td>\n",
              "      <td>5.873789</td>\n",
              "      <td>25.089837</td>\n",
              "      <td>2.210584e+08</td>\n",
              "    </tr>\n",
              "    <tr>\n",
              "      <th>min</th>\n",
              "      <td>81.000000</td>\n",
              "      <td>3.400000</td>\n",
              "      <td>2.000000e+04</td>\n",
              "      <td>40.000000</td>\n",
              "      <td>0.393865</td>\n",
              "      <td>0.000000e+00</td>\n",
              "    </tr>\n",
              "    <tr>\n",
              "      <th>25%</th>\n",
              "      <td>100.000000</td>\n",
              "      <td>6.200000</td>\n",
              "      <td>3.154250e+07</td>\n",
              "      <td>46.000000</td>\n",
              "      <td>8.576823</td>\n",
              "      <td>4.390872e+07</td>\n",
              "    </tr>\n",
              "    <tr>\n",
              "      <th>50%</th>\n",
              "      <td>110.000000</td>\n",
              "      <td>6.600000</td>\n",
              "      <td>6.115500e+07</td>\n",
              "      <td>51.000000</td>\n",
              "      <td>11.073994</td>\n",
              "      <td>1.229171e+08</td>\n",
              "    </tr>\n",
              "    <tr>\n",
              "      <th>75%</th>\n",
              "      <td>125.000000</td>\n",
              "      <td>7.000000</td>\n",
              "      <td>1.170825e+08</td>\n",
              "      <td>56.000000</td>\n",
              "      <td>14.417171</td>\n",
              "      <td>2.589993e+08</td>\n",
              "    </tr>\n",
              "    <tr>\n",
              "      <th>max</th>\n",
              "      <td>191.000000</td>\n",
              "      <td>8.600000</td>\n",
              "      <td>6.522700e+08</td>\n",
              "      <td>60.000000</td>\n",
              "      <td>547.488298</td>\n",
              "      <td>1.513529e+09</td>\n",
              "    </tr>\n",
              "  </tbody>\n",
              "</table>\n",
              "</div>\n",
              "      <button class=\"colab-df-convert\" onclick=\"convertToInteractive('df-10b452c5-4b57-4c4c-a0a0-15fe40ff35e6')\"\n",
              "              title=\"Convert this dataframe to an interactive table.\"\n",
              "              style=\"display:none;\">\n",
              "        \n",
              "  <svg xmlns=\"http://www.w3.org/2000/svg\" height=\"24px\"viewBox=\"0 0 24 24\"\n",
              "       width=\"24px\">\n",
              "    <path d=\"M0 0h24v24H0V0z\" fill=\"none\"/>\n",
              "    <path d=\"M18.56 5.44l.94 2.06.94-2.06 2.06-.94-2.06-.94-.94-2.06-.94 2.06-2.06.94zm-11 1L8.5 8.5l.94-2.06 2.06-.94-2.06-.94L8.5 2.5l-.94 2.06-2.06.94zm10 10l.94 2.06.94-2.06 2.06-.94-2.06-.94-.94-2.06-.94 2.06-2.06.94z\"/><path d=\"M17.41 7.96l-1.37-1.37c-.4-.4-.92-.59-1.43-.59-.52 0-1.04.2-1.43.59L10.3 9.45l-7.72 7.72c-.78.78-.78 2.05 0 2.83L4 21.41c.39.39.9.59 1.41.59.51 0 1.02-.2 1.41-.59l7.78-7.78 2.81-2.81c.8-.78.8-2.07 0-2.86zM5.41 20L4 18.59l7.72-7.72 1.47 1.35L5.41 20z\"/>\n",
              "  </svg>\n",
              "      </button>\n",
              "      \n",
              "  <style>\n",
              "    .colab-df-container {\n",
              "      display:flex;\n",
              "      flex-wrap:wrap;\n",
              "      gap: 12px;\n",
              "    }\n",
              "\n",
              "    .colab-df-convert {\n",
              "      background-color: #E8F0FE;\n",
              "      border: none;\n",
              "      border-radius: 50%;\n",
              "      cursor: pointer;\n",
              "      display: none;\n",
              "      fill: #1967D2;\n",
              "      height: 32px;\n",
              "      padding: 0 0 0 0;\n",
              "      width: 32px;\n",
              "    }\n",
              "\n",
              "    .colab-df-convert:hover {\n",
              "      background-color: #E2EBFA;\n",
              "      box-shadow: 0px 1px 2px rgba(60, 64, 67, 0.3), 0px 1px 3px 1px rgba(60, 64, 67, 0.15);\n",
              "      fill: #174EA6;\n",
              "    }\n",
              "\n",
              "    [theme=dark] .colab-df-convert {\n",
              "      background-color: #3B4455;\n",
              "      fill: #D2E3FC;\n",
              "    }\n",
              "\n",
              "    [theme=dark] .colab-df-convert:hover {\n",
              "      background-color: #434B5C;\n",
              "      box-shadow: 0px 1px 3px 1px rgba(0, 0, 0, 0.15);\n",
              "      filter: drop-shadow(0px 1px 2px rgba(0, 0, 0, 0.3));\n",
              "      fill: #FFFFFF;\n",
              "    }\n",
              "  </style>\n",
              "\n",
              "      <script>\n",
              "        const buttonEl =\n",
              "          document.querySelector('#df-10b452c5-4b57-4c4c-a0a0-15fe40ff35e6 button.colab-df-convert');\n",
              "        buttonEl.style.display =\n",
              "          google.colab.kernel.accessAllowed ? 'block' : 'none';\n",
              "\n",
              "        async function convertToInteractive(key) {\n",
              "          const element = document.querySelector('#df-10b452c5-4b57-4c4c-a0a0-15fe40ff35e6');\n",
              "          const dataTable =\n",
              "            await google.colab.kernel.invokeFunction('convertToInteractive',\n",
              "                                                     [key], {});\n",
              "          if (!dataTable) return;\n",
              "\n",
              "          const docLinkHtml = 'Like what you see? Visit the ' +\n",
              "            '<a target=\"_blank\" href=https://colab.research.google.com/notebooks/data_table.ipynb>data table notebook</a>'\n",
              "            + ' to learn more about interactive tables.';\n",
              "          element.innerHTML = '';\n",
              "          dataTable['output_type'] = 'display_data';\n",
              "          await google.colab.output.renderOutput(dataTable, element);\n",
              "          const docLink = document.createElement('div');\n",
              "          docLink.innerHTML = docLinkHtml;\n",
              "          element.appendChild(docLink);\n",
              "        }\n",
              "      </script>\n",
              "    </div>\n",
              "  </div>\n",
              "  "
            ]
          },
          "metadata": {},
          "execution_count": 111
        }
      ]
    },
    {
      "cell_type": "markdown",
      "source": [
        "## Correlation Matrix"
      ],
      "metadata": {
        "id": "FI0Rhtpbk0N0"
      }
    },
    {
      "cell_type": "code",
      "source": [
        "# Correlation matrix\n",
        "corr = movies_ratings.corr()\n",
        "ax = sns.heatmap(\n",
        "    corr,vmin=-1, vmax=1, center=0\n",
        "    ,cmap=sns.diverging_palette(20,220,n=200),square=True);\n",
        "ax.set_xticklabels(ax.get_xticklabels(),\n",
        "                   rotation=45,\n",
        "                   horizontalalignment='right'\n",
        ");"
      ],
      "metadata": {
        "colab": {
          "base_uri": "https://localhost:8080/",
          "height": 304
        },
        "id": "_H-cZVUakFch",
        "outputId": "5e168787-f9aa-4ca1-d8fd-bf0a10c60456"
      },
      "execution_count": 112,
      "outputs": [
        {
          "output_type": "display_data",
          "data": {
            "text/plain": [
              "<Figure size 432x288 with 2 Axes>"
            ],
            "image/png": "[encoded data removed]"
          },
          "metadata": {
            "needs_background": "light"
          }
        }
      ]
    },
    {
      "cell_type": "markdown",
      "source": [
        "## Boxplot"
      ],
      "metadata": {
        "id": "37Y2XrjVku9G"
      }
    },
    {
      "cell_type": "code",
      "source": [
        "movies_ratings.boxplot(column=['duration'])"
      ],
      "metadata": {
        "colab": {
          "base_uri": "https://localhost:8080/",
          "height": 282
        },
        "id": "TAh1VoQnktF-",
        "outputId": "391bfd76-0f21-41c1-fddc-d77c69ecba24"
      },
      "execution_count": 113,
      "outputs": [
        {
          "output_type": "execute_result",
          "data": {
            "text/plain": [
              "<matplotlib.axes._subplots.AxesSubplot at 0x7f0a39ee18d0>"
            ]
          },
          "metadata": {},
          "execution_count": 113
        },
        {
          "output_type": "display_data",
          "data": {
            "text/plain": [
              "<Figure size 432x288 with 1 Axes>"
            ],
            "image/png": "[encoded data removed]"
          },
          "metadata": {
            "needs_background": "light"
          }
        }
      ]
    },
    {
      "cell_type": "code",
      "source": [
        "movies_ratings.boxplot(column=['rating'])"
      ],
      "metadata": {
        "colab": {
          "base_uri": "https://localhost:8080/",
          "height": 282
        },
        "id": "sB4gJ3RelCk8",
        "outputId": "06c7608d-d4fd-4863-c932-13966bc544e3"
      },
      "execution_count": 114,
      "outputs": [
        {
          "output_type": "execute_result",
          "data": {
            "text/plain": [
              "<matplotlib.axes._subplots.AxesSubplot at 0x7f0a39e637d0>"
            ]
          },
          "metadata": {},
          "execution_count": 114
        },
        {
          "output_type": "display_data",
          "data": {
            "text/plain": [
              "<Figure size 432x288 with 1 Axes>"
            ],
            "image/png": "[encoded data removed]"
          },
          "metadata": {
            "needs_background": "light"
          }
        }
      ]
    },
    {
      "cell_type": "code",
      "source": [
        "movies_ratings.boxplot(column=['budget'])"
      ],
      "metadata": {
        "colab": {
          "base_uri": "https://localhost:8080/",
          "height": 293
        },
        "id": "jW63_hWDlIrq",
        "outputId": "3a937af3-52a5-491c-f256-5b6807bcacc2"
      },
      "execution_count": 115,
      "outputs": [
        {
          "output_type": "execute_result",
          "data": {
            "text/plain": [
              "<matplotlib.axes._subplots.AxesSubplot at 0x7f0a39e48a10>"
            ]
          },
          "metadata": {},
          "execution_count": 115
        },
        {
          "output_type": "display_data",
          "data": {
            "text/plain": [
              "<Figure size 432x288 with 1 Axes>"
            ],
            "image/png": "[encoded data removed]"
          },
          "metadata": {
            "needs_background": "light"
          }
        }
      ]
    },
    {
      "cell_type": "code",
      "source": [
        "movies_ratings.boxplot(column=['metascore'])"
      ],
      "metadata": {
        "colab": {
          "base_uri": "https://localhost:8080/",
          "height": 282
        },
        "id": "t2gukWN3lQcl",
        "outputId": "22fc1147-3b14-488f-ba62-1cec43be0006"
      },
      "execution_count": 116,
      "outputs": [
        {
          "output_type": "execute_result",
          "data": {
            "text/plain": [
              "<matplotlib.axes._subplots.AxesSubplot at 0x7f0a39dbaa90>"
            ]
          },
          "metadata": {},
          "execution_count": 116
        },
        {
          "output_type": "display_data",
          "data": {
            "text/plain": [
              "<Figure size 432x288 with 1 Axes>"
            ],
            "image/png": "[encoded data removed]"
          },
          "metadata": {
            "needs_background": "light"
          }
        }
      ]
    },
    {
      "cell_type": "code",
      "source": [
        "movies_ratings.boxplot(column=['popularity'])"
      ],
      "metadata": {
        "colab": {
          "base_uri": "https://localhost:8080/",
          "height": 282
        },
        "id": "X_QEtaPvlSVX",
        "outputId": "d8baeba6-f924-4045-982b-f781de373852"
      },
      "execution_count": 117,
      "outputs": [
        {
          "output_type": "execute_result",
          "data": {
            "text/plain": [
              "<matplotlib.axes._subplots.AxesSubplot at 0x7f0a39d33650>"
            ]
          },
          "metadata": {},
          "execution_count": 117
        },
        {
          "output_type": "display_data",
          "data": {
            "text/plain": [
              "<Figure size 432x288 with 1 Axes>"
            ],
            "image/png": "[encoded data removed]"
          },
          "metadata": {
            "needs_background": "light"
          }
        }
      ]
    },
    {
      "cell_type": "code",
      "source": [
        "# we will remove outliers from dataset\n",
        "movies_ratings= movies_ratings[movies_ratings.popularity < 300]"
      ],
      "metadata": {
        "id": "ci1vhhE-lYk-"
      },
      "execution_count": 118,
      "outputs": []
    },
    {
      "cell_type": "code",
      "source": [
        "movies_ratings.boxplot(column=['revenue'])"
      ],
      "metadata": {
        "colab": {
          "base_uri": "https://localhost:8080/",
          "height": 293
        },
        "id": "ILTpAhRrljL7",
        "outputId": "cd7f2380-917a-46d8-a768-29dcd39b89dc"
      },
      "execution_count": 119,
      "outputs": [
        {
          "output_type": "execute_result",
          "data": {
            "text/plain": [
              "<matplotlib.axes._subplots.AxesSubplot at 0x7f0a39c9f610>"
            ]
          },
          "metadata": {},
          "execution_count": 119
        },
        {
          "output_type": "display_data",
          "data": {
            "text/plain": [
              "<Figure size 432x288 with 1 Axes>"
            ],
            "image/png": "[encoded data removed]"
          },
          "metadata": {
            "needs_background": "light"
          }
        }
      ]
    },
    {
      "cell_type": "code",
      "source": [
        "# Rating vs Metascore\n",
        "fig, ax = plt.subplots(1, figsize=(15,5))\n",
        "ax.scatter('rating','metascore',data=movies_ratings)"
      ],
      "metadata": {
        "colab": {
          "base_uri": "https://localhost:8080/",
          "height": 337
        },
        "id": "8U1eR17Llq4x",
        "outputId": "0299ac25-e570-4e00-9193-c74df7176673"
      },
      "execution_count": 120,
      "outputs": [
        {
          "output_type": "execute_result",
          "data": {
            "text/plain": [
              "<matplotlib.collections.PathCollection at 0x7f0a39c70090>"
            ]
          },
          "metadata": {},
          "execution_count": 120
        },
        {
          "output_type": "display_data",
          "data": {
            "text/plain": [
              "<Figure size 1080x360 with 1 Axes>"
            ],
            "image/png": "[encoded data removed]"
          },
          "metadata": {
            "needs_background": "light"
          }
        }
      ]
    },
    {
      "cell_type": "code",
      "source": [
        "# Revenue vs Budget\n",
        "fig, ax=plt.subplots(1, figsize=(15,5))\n",
        "ax.scatter('revenue','budget',data=movies_ratings)"
      ],
      "metadata": {
        "colab": {
          "base_uri": "https://localhost:8080/",
          "height": 361
        },
        "id": "HhIhi0pVmBxO",
        "outputId": "7053d3da-5a8c-47d9-eb78-a443d2ae020e"
      },
      "execution_count": 121,
      "outputs": [
        {
          "output_type": "execute_result",
          "data": {
            "text/plain": [
              "<matplotlib.collections.PathCollection at 0x7f0a39bcf510>"
            ]
          },
          "metadata": {},
          "execution_count": 121
        },
        {
          "output_type": "display_data",
          "data": {
            "text/plain": [
              "<Figure size 1080x360 with 1 Axes>"
            ],
            "image/png": "[encoded data removed]"
          },
          "metadata": {
            "needs_background": "light"
          }
        }
      ]
    },
    {
      "cell_type": "code",
      "source": [
        "# Distribution of Ratings\n",
        "sns.distplot(movies_ratings['rating']).set_title('Distribution of Ratings')"
      ],
      "metadata": {
        "colab": {
          "base_uri": "https://localhost:8080/",
          "height": 367
        },
        "id": "O99-MrkgmREp",
        "outputId": "672eb12a-4949-494a-eebf-cd5b94358896"
      },
      "execution_count": 122,
      "outputs": [
        {
          "output_type": "stream",
          "name": "stderr",
          "text": [
            "/usr/local/lib/python3.7/dist-packages/seaborn/distributions.py:2619: FutureWarning: `distplot` is a deprecated function and will be removed in a future version. Please adapt your code to use either `displot` (a figure-level function with similar flexibility) or `histplot` (an axes-level function for histograms).\n",
            "  warnings.warn(msg, FutureWarning)\n"
          ]
        },
        {
          "output_type": "execute_result",
          "data": {
            "text/plain": [
              "Text(0.5, 1.0, 'Distribution of Ratings')"
            ]
          },
          "metadata": {},
          "execution_count": 122
        },
        {
          "output_type": "display_data",
          "data": {
            "text/plain": [
              "<Figure size 432x288 with 1 Axes>"
            ],
            "image/png": "[encoded data removed]"
          },
          "metadata": {
            "needs_background": "light"
          }
        }
      ]
    },
    {
      "cell_type": "code",
      "source": [
        "# Distribution of Metascore\n",
        "sns.distplot(movies_ratings['metascore']).set_title('Distribution of metascore')"
      ],
      "metadata": {
        "colab": {
          "base_uri": "https://localhost:8080/",
          "height": 367
        },
        "id": "p2QIk1qMmfbs",
        "outputId": "c4670ecd-11cc-42f2-83be-471eca2deeb2"
      },
      "execution_count": 123,
      "outputs": [
        {
          "output_type": "stream",
          "name": "stderr",
          "text": [
            "/usr/local/lib/python3.7/dist-packages/seaborn/distributions.py:2619: FutureWarning: `distplot` is a deprecated function and will be removed in a future version. Please adapt your code to use either `displot` (a figure-level function with similar flexibility) or `histplot` (an axes-level function for histograms).\n",
            "  warnings.warn(msg, FutureWarning)\n"
          ]
        },
        {
          "output_type": "execute_result",
          "data": {
            "text/plain": [
              "Text(0.5, 1.0, 'Distribution of metascore')"
            ]
          },
          "metadata": {},
          "execution_count": 123
        },
        {
          "output_type": "display_data",
          "data": {
            "text/plain": [
              "<Figure size 432x288 with 1 Axes>"
            ],
            "image/png": "[encoded data removed]"
          },
          "metadata": {
            "needs_background": "light"
          }
        }
      ]
    },
    {
      "cell_type": "code",
      "source": [
        "# Distribution of Duration\n",
        "sns.distplot(movies_ratings['duration']).set_title('Distribution of Duration')"
      ],
      "metadata": {
        "colab": {
          "base_uri": "https://localhost:8080/",
          "height": 367
        },
        "id": "GrgcMhI0mroI",
        "outputId": "4d3723b9-aa58-44c9-82ad-ed7db4213fb9"
      },
      "execution_count": 124,
      "outputs": [
        {
          "output_type": "stream",
          "name": "stderr",
          "text": [
            "/usr/local/lib/python3.7/dist-packages/seaborn/distributions.py:2619: FutureWarning: `distplot` is a deprecated function and will be removed in a future version. Please adapt your code to use either `displot` (a figure-level function with similar flexibility) or `histplot` (an axes-level function for histograms).\n",
            "  warnings.warn(msg, FutureWarning)\n"
          ]
        },
        {
          "output_type": "execute_result",
          "data": {
            "text/plain": [
              "Text(0.5, 1.0, 'Distribution of Duration')"
            ]
          },
          "metadata": {},
          "execution_count": 124
        },
        {
          "output_type": "display_data",
          "data": {
            "text/plain": [
              "<Figure size 432x288 with 1 Axes>"
            ],
            "image/png": "[encoded data removed]"
          },
          "metadata": {
            "needs_background": "light"
          }
        }
      ]
    },
    {
      "cell_type": "code",
      "source": [
        "# Distribution of budget\n",
        "sns.histplot(movies_ratings['budget']).set_title('Distribution of Budget')"
      ],
      "metadata": {
        "colab": {
          "base_uri": "https://localhost:8080/",
          "height": 312
        },
        "id": "i8HGx2q2m4JF",
        "outputId": "71132cc9-b4a4-413a-af72-2477ca3a1b7a"
      },
      "execution_count": 125,
      "outputs": [
        {
          "output_type": "execute_result",
          "data": {
            "text/plain": [
              "Text(0.5, 1.0, 'Distribution of Budget')"
            ]
          },
          "metadata": {},
          "execution_count": 125
        },
        {
          "output_type": "display_data",
          "data": {
            "text/plain": [
              "<Figure size 432x288 with 1 Axes>"
            ],
            "image/png": "[encoded data removed]"
          },
          "metadata": {
            "needs_background": "light"
          }
        }
      ]
    },
    {
      "cell_type": "code",
      "source": [
        "# Distribution of Revenue\n",
        "sns.histplot(movies_ratings['revenue']).set_title('Distribution of revenue')"
      ],
      "metadata": {
        "colab": {
          "base_uri": "https://localhost:8080/",
          "height": 312
        },
        "id": "ZjYCLCHGntRD",
        "outputId": "e4a18b71-23e7-41a0-8c80-683fe65e0702"
      },
      "execution_count": 126,
      "outputs": [
        {
          "output_type": "execute_result",
          "data": {
            "text/plain": [
              "Text(0.5, 1.0, 'Distribution of revenue')"
            ]
          },
          "metadata": {},
          "execution_count": 126
        },
        {
          "output_type": "display_data",
          "data": {
            "text/plain": [
              "<Figure size 432x288 with 1 Axes>"
            ],
            "image/png": "[encoded data removed]"
          },
          "metadata": {
            "needs_background": "light"
          }
        }
      ]
    },
    {
      "cell_type": "code",
      "source": [
        "# Scatter plot of popularity and budget\n",
        "fig, ax=plt.subplots(1, figsize=(15,5))\n",
        "ax.scatter('popularity','budget',data=movies_ratings)"
      ],
      "metadata": {
        "colab": {
          "base_uri": "https://localhost:8080/",
          "height": 348
        },
        "id": "hvnl0XOLIv-r",
        "outputId": "b27a4269-33a9-4715-c5fc-08ed577fd4a5"
      },
      "execution_count": 127,
      "outputs": [
        {
          "output_type": "execute_result",
          "data": {
            "text/plain": [
              "<matplotlib.collections.PathCollection at 0x7f0a39e08e10>"
            ]
          },
          "metadata": {},
          "execution_count": 127
        },
        {
          "output_type": "display_data",
          "data": {
            "text/plain": [
              "<Figure size 1080x360 with 1 Axes>"
            ],
            "image/png": "[encoded data removed]"
          },
          "metadata": {
            "needs_background": "light"
          }
        }
      ]
    },
    {
      "cell_type": "code",
      "source": [
        "# Scatter plot of popularity and revenue\n",
        "fig, ax=plt.subplots(1, figsize=(15,5))\n",
        "ax.scatter('popularity','revenue',data=movies_ratings)"
      ],
      "metadata": {
        "colab": {
          "base_uri": "https://localhost:8080/",
          "height": 348
        },
        "id": "Z8GjQEsqKc8b",
        "outputId": "6934b4f8-cb4f-41bc-8c0f-b05187b315ea"
      },
      "execution_count": 128,
      "outputs": [
        {
          "output_type": "execute_result",
          "data": {
            "text/plain": [
              "<matplotlib.collections.PathCollection at 0x7f0a39d31210>"
            ]
          },
          "metadata": {},
          "execution_count": 128
        },
        {
          "output_type": "display_data",
          "data": {
            "text/plain": [
              "<Figure size 1080x360 with 1 Axes>"
            ],
            "image/png": "[encoded data removed]"
          },
          "metadata": {
            "needs_background": "light"
          }
        }
      ]
    },
    {
      "cell_type": "code",
      "source": [
        "fig, ax=plt.subplots(1,2, figsize = (15,5))\n",
        "ax[0].barh('original_language','rating',data=movies_ratings.groupby('original_language',as_index=False).mean())\n",
        "ax[1].barh('original_language','metascore',data=movies_ratings.groupby('original_language',as_index=False).mean())\n"
      ],
      "metadata": {
        "colab": {
          "base_uri": "https://localhost:8080/",
          "height": 337
        },
        "id": "NSKTA3hyKqjc",
        "outputId": "cacec761-c8a4-48fa-c498-543d0746b01c"
      },
      "execution_count": 129,
      "outputs": [
        {
          "output_type": "execute_result",
          "data": {
            "text/plain": [
              "<BarContainer object of 18 artists>"
            ]
          },
          "metadata": {},
          "execution_count": 129
        },
        {
          "output_type": "display_data",
          "data": {
            "text/plain": [
              "<Figure size 1080x360 with 2 Axes>"
            ],
            "image/png": "[encoded data removed]"
          },
          "metadata": {
            "needs_background": "light"
          }
        }
      ]
    },
    {
      "cell_type": "code",
      "source": [
        "movies_ratings.groupby('year',as_index=False).mean()"
      ],
      "metadata": {
        "colab": {
          "base_uri": "https://localhost:8080/",
          "height": 424
        },
        "id": "66vP4zNULQzo",
        "outputId": "84ea0d4c-0320-4ab9-cebd-86e79384d7ce"
      },
      "execution_count": 130,
      "outputs": [
        {
          "output_type": "execute_result",
          "data": {
            "text/plain": [
              "    year    duration    rating        budget  metascore  popularity  \\\n",
              "0   1939         NaN       NaN           NaN        NaN         NaN   \n",
              "1   1941         NaN       NaN           NaN        NaN         NaN   \n",
              "2   1942         NaN       NaN           NaN        NaN         NaN   \n",
              "3   1945         NaN       NaN           NaN        NaN         NaN   \n",
              "4   1946         NaN       NaN           NaN        NaN         NaN   \n",
              "..   ...         ...       ...           ...        ...         ...   \n",
              "69  2013  113.000000  6.614815  6.708556e+07  49.407407   12.377853   \n",
              "70  2014  115.400000  6.560000  8.654200e+07  49.050000   19.798173   \n",
              "71  2015  121.800000  6.333333  1.115593e+08  50.533333   19.967811   \n",
              "72  2016  114.583333  6.404167  8.897542e+07  50.375000   19.628172   \n",
              "73  2017  113.111111  6.377778  1.153222e+08  49.333333   22.699964   \n",
              "\n",
              "         revenue  \n",
              "0            NaN  \n",
              "1            NaN  \n",
              "2            NaN  \n",
              "3            NaN  \n",
              "4            NaN  \n",
              "..           ...  \n",
              "69  1.424225e+08  \n",
              "70  2.480037e+08  \n",
              "71  3.175682e+08  \n",
              "72  2.540122e+08  \n",
              "73  3.008398e+08  \n",
              "\n",
              "[74 rows x 7 columns]"
            ],
            "text/html": [
              "\n",
              "  <div id=\"df-5c281de8-3788-4a4d-8091-95ee973d1565\">\n",
              "    <div class=\"colab-df-container\">\n",
              "      <div>\n",
              "<style scoped>\n",
              "    .dataframe tbody tr th:only-of-type {\n",
              "        vertical-align: middle;\n",
              "    }\n",
              "\n",
              "    .dataframe tbody tr th {\n",
              "        vertical-align: top;\n",
              "    }\n",
              "\n",
              "    .dataframe thead th {\n",
              "        text-align: right;\n",
              "    }\n",
              "</style>\n",
              "<table border=\"1\" class=\"dataframe\">\n",
              "  <thead>\n",
              "    <tr style=\"text-align: right;\">\n",
              "      <th></th>\n",
              "      <th>year</th>\n",
              "      <th>duration</th>\n",
              "      <th>rating</th>\n",
              "      <th>budget</th>\n",
              "      <th>metascore</th>\n",
              "      <th>popularity</th>\n",
              "      <th>revenue</th>\n",
              "    </tr>\n",
              "  </thead>\n",
              "  <tbody>\n",
              "    <tr>\n",
              "      <th>0</th>\n",
              "      <td>1939</td>\n",
              "      <td>NaN</td>\n",
              "      <td>NaN</td>\n",
              "      <td>NaN</td>\n",
              "      <td>NaN</td>\n",
              "      <td>NaN</td>\n",
              "      <td>NaN</td>\n",
              "    </tr>\n",
              "    <tr>\n",
              "      <th>1</th>\n",
              "      <td>1941</td>\n",
              "      <td>NaN</td>\n",
              "      <td>NaN</td>\n",
              "      <td>NaN</td>\n",
              "      <td>NaN</td>\n",
              "      <td>NaN</td>\n",
              "      <td>NaN</td>\n",
              "    </tr>\n",
              "    <tr>\n",
              "      <th>2</th>\n",
              "      <td>1942</td>\n",
              "      <td>NaN</td>\n",
              "      <td>NaN</td>\n",
              "      <td>NaN</td>\n",
              "      <td>NaN</td>\n",
              "      <td>NaN</td>\n",
              "      <td>NaN</td>\n",
              "    </tr>\n",
              "    <tr>\n",
              "      <th>3</th>\n",
              "      <td>1945</td>\n",
              "      <td>NaN</td>\n",
              "      <td>NaN</td>\n",
              "      <td>NaN</td>\n",
              "      <td>NaN</td>\n",
              "      <td>NaN</td>\n",
              "      <td>NaN</td>\n",
              "    </tr>\n",
              "    <tr>\n",
              "      <th>4</th>\n",
              "      <td>1946</td>\n",
              "      <td>NaN</td>\n",
              "      <td>NaN</td>\n",
              "      <td>NaN</td>\n",
              "      <td>NaN</td>\n",
              "      <td>NaN</td>\n",
              "      <td>NaN</td>\n",
              "    </tr>\n",
              "    <tr>\n",
              "      <th>...</th>\n",
              "      <td>...</td>\n",
              "      <td>...</td>\n",
              "      <td>...</td>\n",
              "      <td>...</td>\n",
              "      <td>...</td>\n",
              "      <td>...</td>\n",
              "      <td>...</td>\n",
              "    </tr>\n",
              "    <tr>\n",
              "      <th>69</th>\n",
              "      <td>2013</td>\n",
              "      <td>113.000000</td>\n",
              "      <td>6.614815</td>\n",
              "      <td>6.708556e+07</td>\n",
              "      <td>49.407407</td>\n",
              "      <td>12.377853</td>\n",
              "      <td>1.424225e+08</td>\n",
              "    </tr>\n",
              "    <tr>\n",
              "      <th>70</th>\n",
              "      <td>2014</td>\n",
              "      <td>115.400000</td>\n",
              "      <td>6.560000</td>\n",
              "      <td>8.654200e+07</td>\n",
              "      <td>49.050000</td>\n",
              "      <td>19.798173</td>\n",
              "      <td>2.480037e+08</td>\n",
              "    </tr>\n",
              "    <tr>\n",
              "      <th>71</th>\n",
              "      <td>2015</td>\n",
              "      <td>121.800000</td>\n",
              "      <td>6.333333</td>\n",
              "      <td>1.115593e+08</td>\n",
              "      <td>50.533333</td>\n",
              "      <td>19.967811</td>\n",
              "      <td>3.175682e+08</td>\n",
              "    </tr>\n",
              "    <tr>\n",
              "      <th>72</th>\n",
              "      <td>2016</td>\n",
              "      <td>114.583333</td>\n",
              "      <td>6.404167</td>\n",
              "      <td>8.897542e+07</td>\n",
              "      <td>50.375000</td>\n",
              "      <td>19.628172</td>\n",
              "      <td>2.540122e+08</td>\n",
              "    </tr>\n",
              "    <tr>\n",
              "      <th>73</th>\n",
              "      <td>2017</td>\n",
              "      <td>113.111111</td>\n",
              "      <td>6.377778</td>\n",
              "      <td>1.153222e+08</td>\n",
              "      <td>49.333333</td>\n",
              "      <td>22.699964</td>\n",
              "      <td>3.008398e+08</td>\n",
              "    </tr>\n",
              "  </tbody>\n",
              "</table>\n",
              "<p>74 rows × 7 columns</p>\n",
              "</div>\n",
              "      <button class=\"colab-df-convert\" onclick=\"convertToInteractive('df-5c281de8-3788-4a4d-8091-95ee973d1565')\"\n",
              "              title=\"Convert this dataframe to an interactive table.\"\n",
              "              style=\"display:none;\">\n",
              "        \n",
              "  <svg xmlns=\"http://www.w3.org/2000/svg\" height=\"24px\"viewBox=\"0 0 24 24\"\n",
              "       width=\"24px\">\n",
              "    <path d=\"M0 0h24v24H0V0z\" fill=\"none\"/>\n",
              "    <path d=\"M18.56 5.44l.94 2.06.94-2.06 2.06-.94-2.06-.94-.94-2.06-.94 2.06-2.06.94zm-11 1L8.5 8.5l.94-2.06 2.06-.94-2.06-.94L8.5 2.5l-.94 2.06-2.06.94zm10 10l.94 2.06.94-2.06 2.06-.94-2.06-.94-.94-2.06-.94 2.06-2.06.94z\"/><path d=\"M17.41 7.96l-1.37-1.37c-.4-.4-.92-.59-1.43-.59-.52 0-1.04.2-1.43.59L10.3 9.45l-7.72 7.72c-.78.78-.78 2.05 0 2.83L4 21.41c.39.39.9.59 1.41.59.51 0 1.02-.2 1.41-.59l7.78-7.78 2.81-2.81c.8-.78.8-2.07 0-2.86zM5.41 20L4 18.59l7.72-7.72 1.47 1.35L5.41 20z\"/>\n",
              "  </svg>\n",
              "      </button>\n",
              "      \n",
              "  <style>\n",
              "    .colab-df-container {\n",
              "      display:flex;\n",
              "      flex-wrap:wrap;\n",
              "      gap: 12px;\n",
              "    }\n",
              "\n",
              "    .colab-df-convert {\n",
              "      background-color: #E8F0FE;\n",
              "      border: none;\n",
              "      border-radius: 50%;\n",
              "      cursor: pointer;\n",
              "      display: none;\n",
              "      fill: #1967D2;\n",
              "      height: 32px;\n",
              "      padding: 0 0 0 0;\n",
              "      width: 32px;\n",
              "    }\n",
              "\n",
              "    .colab-df-convert:hover {\n",
              "      background-color: #E2EBFA;\n",
              "      box-shadow: 0px 1px 2px rgba(60, 64, 67, 0.3), 0px 1px 3px 1px rgba(60, 64, 67, 0.15);\n",
              "      fill: #174EA6;\n",
              "    }\n",
              "\n",
              "    [theme=dark] .colab-df-convert {\n",
              "      background-color: #3B4455;\n",
              "      fill: #D2E3FC;\n",
              "    }\n",
              "\n",
              "    [theme=dark] .colab-df-convert:hover {\n",
              "      background-color: #434B5C;\n",
              "      box-shadow: 0px 1px 3px 1px rgba(0, 0, 0, 0.15);\n",
              "      filter: drop-shadow(0px 1px 2px rgba(0, 0, 0, 0.3));\n",
              "      fill: #FFFFFF;\n",
              "    }\n",
              "  </style>\n",
              "\n",
              "      <script>\n",
              "        const buttonEl =\n",
              "          document.querySelector('#df-5c281de8-3788-4a4d-8091-95ee973d1565 button.colab-df-convert');\n",
              "        buttonEl.style.display =\n",
              "          google.colab.kernel.accessAllowed ? 'block' : 'none';\n",
              "\n",
              "        async function convertToInteractive(key) {\n",
              "          const element = document.querySelector('#df-5c281de8-3788-4a4d-8091-95ee973d1565');\n",
              "          const dataTable =\n",
              "            await google.colab.kernel.invokeFunction('convertToInteractive',\n",
              "                                                     [key], {});\n",
              "          if (!dataTable) return;\n",
              "\n",
              "          const docLinkHtml = 'Like what you see? Visit the ' +\n",
              "            '<a target=\"_blank\" href=https://colab.research.google.com/notebooks/data_table.ipynb>data table notebook</a>'\n",
              "            + ' to learn more about interactive tables.';\n",
              "          element.innerHTML = '';\n",
              "          dataTable['output_type'] = 'display_data';\n",
              "          await google.colab.output.renderOutput(dataTable, element);\n",
              "          const docLink = document.createElement('div');\n",
              "          docLink.innerHTML = docLinkHtml;\n",
              "          element.appendChild(docLink);\n",
              "        }\n",
              "      </script>\n",
              "    </div>\n",
              "  </div>\n",
              "  "
            ]
          },
          "metadata": {},
          "execution_count": 130
        }
      ]
    },
    {
      "cell_type": "code",
      "source": [
        "movies_ratings.groupby('original_language',as_index=False).mean()"
      ],
      "metadata": {
        "colab": {
          "base_uri": "https://localhost:8080/",
          "height": 614
        },
        "id": "mz9X8FaZLcTS",
        "outputId": "a1143bf2-bce5-48ff-e38a-444043e1319a"
      },
      "execution_count": 131,
      "outputs": [
        {
          "output_type": "execute_result",
          "data": {
            "text/plain": [
              "   original_language    duration    rating        budget  metascore  \\\n",
              "0                 ca         NaN       NaN           NaN        NaN   \n",
              "1                 cn         NaN       NaN           NaN        NaN   \n",
              "2                 da  136.666667  7.033333  7.533333e+05  56.333333   \n",
              "3                 de         NaN       NaN           NaN        NaN   \n",
              "4                 el         NaN       NaN           NaN        NaN   \n",
              "5                 en  113.549383  6.562551  8.618990e+07  50.695473   \n",
              "6                 es         NaN       NaN           NaN        NaN   \n",
              "7                 fr  112.500000  7.325000  1.367250e+07  54.000000   \n",
              "8                 hi         NaN       NaN           NaN        NaN   \n",
              "9                 it  112.000000  8.000000  3.052500e+07  56.500000   \n",
              "10                ja         NaN       NaN           NaN        NaN   \n",
              "11                ko         NaN       NaN           NaN        NaN   \n",
              "12                pt         NaN       NaN           NaN        NaN   \n",
              "13                ru         NaN       NaN           NaN        NaN   \n",
              "14                sr         NaN       NaN           NaN        NaN   \n",
              "15                sv         NaN       NaN           NaN        NaN   \n",
              "16                te         NaN       NaN           NaN        NaN   \n",
              "17                zh         NaN       NaN           NaN        NaN   \n",
              "\n",
              "    popularity       revenue  \n",
              "0          NaN           NaN  \n",
              "1          NaN           NaN  \n",
              "2     9.057453  6.566623e+06  \n",
              "3          NaN           NaN  \n",
              "4          NaN           NaN  \n",
              "5    12.595289  1.935465e+08  \n",
              "6          NaN           NaN  \n",
              "7    11.372039  1.155844e+08  \n",
              "8          NaN           NaN  \n",
              "9    24.442741  1.147000e+08  \n",
              "10         NaN           NaN  \n",
              "11         NaN           NaN  \n",
              "12         NaN           NaN  \n",
              "13         NaN           NaN  \n",
              "14         NaN           NaN  \n",
              "15         NaN           NaN  \n",
              "16         NaN           NaN  \n",
              "17         NaN           NaN  "
            ],
            "text/html": [
              "\n",
              "  <div id=\"df-8b432f97-0d9b-4540-be5a-b21697f53694\">\n",
              "    <div class=\"colab-df-container\">\n",
              "      <div>\n",
              "<style scoped>\n",
              "    .dataframe tbody tr th:only-of-type {\n",
              "        vertical-align: middle;\n",
              "    }\n",
              "\n",
              "    .dataframe tbody tr th {\n",
              "        vertical-align: top;\n",
              "    }\n",
              "\n",
              "    .dataframe thead th {\n",
              "        text-align: right;\n",
              "    }\n",
              "</style>\n",
              "<table border=\"1\" class=\"dataframe\">\n",
              "  <thead>\n",
              "    <tr style=\"text-align: right;\">\n",
              "      <th></th>\n",
              "      <th>original_language</th>\n",
              "      <th>duration</th>\n",
              "      <th>rating</th>\n",
              "      <th>budget</th>\n",
              "      <th>metascore</th>\n",
              "      <th>popularity</th>\n",
              "      <th>revenue</th>\n",
              "    </tr>\n",
              "  </thead>\n",
              "  <tbody>\n",
              "    <tr>\n",
              "      <th>0</th>\n",
              "      <td>ca</td>\n",
              "      <td>NaN</td>\n",
              "      <td>NaN</td>\n",
              "      <td>NaN</td>\n",
              "      <td>NaN</td>\n",
              "      <td>NaN</td>\n",
              "      <td>NaN</td>\n",
              "    </tr>\n",
              "    <tr>\n",
              "      <th>1</th>\n",
              "      <td>cn</td>\n",
              "      <td>NaN</td>\n",
              "      <td>NaN</td>\n",
              "      <td>NaN</td>\n",
              "      <td>NaN</td>\n",
              "      <td>NaN</td>\n",
              "      <td>NaN</td>\n",
              "    </tr>\n",
              "    <tr>\n",
              "      <th>2</th>\n",
              "      <td>da</td>\n",
              "      <td>136.666667</td>\n",
              "      <td>7.033333</td>\n",
              "      <td>7.533333e+05</td>\n",
              "      <td>56.333333</td>\n",
              "      <td>9.057453</td>\n",
              "      <td>6.566623e+06</td>\n",
              "    </tr>\n",
              "    <tr>\n",
              "      <th>3</th>\n",
              "      <td>de</td>\n",
              "      <td>NaN</td>\n",
              "      <td>NaN</td>\n",
              "      <td>NaN</td>\n",
              "      <td>NaN</td>\n",
              "      <td>NaN</td>\n",
              "      <td>NaN</td>\n",
              "    </tr>\n",
              "    <tr>\n",
              "      <th>4</th>\n",
              "      <td>el</td>\n",
              "      <td>NaN</td>\n",
              "      <td>NaN</td>\n",
              "      <td>NaN</td>\n",
              "      <td>NaN</td>\n",
              "      <td>NaN</td>\n",
              "      <td>NaN</td>\n",
              "    </tr>\n",
              "    <tr>\n",
              "      <th>5</th>\n",
              "      <td>en</td>\n",
              "      <td>113.549383</td>\n",
              "      <td>6.562551</td>\n",
              "      <td>8.618990e+07</td>\n",
              "      <td>50.695473</td>\n",
              "      <td>12.595289</td>\n",
              "      <td>1.935465e+08</td>\n",
              "    </tr>\n",
              "    <tr>\n",
              "      <th>6</th>\n",
              "      <td>es</td>\n",
              "      <td>NaN</td>\n",
              "      <td>NaN</td>\n",
              "      <td>NaN</td>\n",
              "      <td>NaN</td>\n",
              "      <td>NaN</td>\n",
              "      <td>NaN</td>\n",
              "    </tr>\n",
              "    <tr>\n",
              "      <th>7</th>\n",
              "      <td>fr</td>\n",
              "      <td>112.500000</td>\n",
              "      <td>7.325000</td>\n",
              "      <td>1.367250e+07</td>\n",
              "      <td>54.000000</td>\n",
              "      <td>11.372039</td>\n",
              "      <td>1.155844e+08</td>\n",
              "    </tr>\n",
              "    <tr>\n",
              "      <th>8</th>\n",
              "      <td>hi</td>\n",
              "      <td>NaN</td>\n",
              "      <td>NaN</td>\n",
              "      <td>NaN</td>\n",
              "      <td>NaN</td>\n",
              "      <td>NaN</td>\n",
              "      <td>NaN</td>\n",
              "    </tr>\n",
              "    <tr>\n",
              "      <th>9</th>\n",
              "      <td>it</td>\n",
              "      <td>112.000000</td>\n",
              "      <td>8.000000</td>\n",
              "      <td>3.052500e+07</td>\n",
              "      <td>56.500000</td>\n",
              "      <td>24.442741</td>\n",
              "      <td>1.147000e+08</td>\n",
              "    </tr>\n",
              "    <tr>\n",
              "      <th>10</th>\n",
              "      <td>ja</td>\n",
              "      <td>NaN</td>\n",
              "      <td>NaN</td>\n",
              "      <td>NaN</td>\n",
              "      <td>NaN</td>\n",
              "      <td>NaN</td>\n",
              "      <td>NaN</td>\n",
              "    </tr>\n",
              "    <tr>\n",
              "      <th>11</th>\n",
              "      <td>ko</td>\n",
              "      <td>NaN</td>\n",
              "      <td>NaN</td>\n",
              "      <td>NaN</td>\n",
              "      <td>NaN</td>\n",
              "      <td>NaN</td>\n",
              "      <td>NaN</td>\n",
              "    </tr>\n",
              "    <tr>\n",
              "      <th>12</th>\n",
              "      <td>pt</td>\n",
              "      <td>NaN</td>\n",
              "      <td>NaN</td>\n",
              "      <td>NaN</td>\n",
              "      <td>NaN</td>\n",
              "      <td>NaN</td>\n",
              "      <td>NaN</td>\n",
              "    </tr>\n",
              "    <tr>\n",
              "      <th>13</th>\n",
              "      <td>ru</td>\n",
              "      <td>NaN</td>\n",
              "      <td>NaN</td>\n",
              "      <td>NaN</td>\n",
              "      <td>NaN</td>\n",
              "      <td>NaN</td>\n",
              "      <td>NaN</td>\n",
              "    </tr>\n",
              "    <tr>\n",
              "      <th>14</th>\n",
              "      <td>sr</td>\n",
              "      <td>NaN</td>\n",
              "      <td>NaN</td>\n",
              "      <td>NaN</td>\n",
              "      <td>NaN</td>\n",
              "      <td>NaN</td>\n",
              "      <td>NaN</td>\n",
              "    </tr>\n",
              "    <tr>\n",
              "      <th>15</th>\n",
              "      <td>sv</td>\n",
              "      <td>NaN</td>\n",
              "      <td>NaN</td>\n",
              "      <td>NaN</td>\n",
              "      <td>NaN</td>\n",
              "      <td>NaN</td>\n",
              "      <td>NaN</td>\n",
              "    </tr>\n",
              "    <tr>\n",
              "      <th>16</th>\n",
              "      <td>te</td>\n",
              "      <td>NaN</td>\n",
              "      <td>NaN</td>\n",
              "      <td>NaN</td>\n",
              "      <td>NaN</td>\n",
              "      <td>NaN</td>\n",
              "      <td>NaN</td>\n",
              "    </tr>\n",
              "    <tr>\n",
              "      <th>17</th>\n",
              "      <td>zh</td>\n",
              "      <td>NaN</td>\n",
              "      <td>NaN</td>\n",
              "      <td>NaN</td>\n",
              "      <td>NaN</td>\n",
              "      <td>NaN</td>\n",
              "      <td>NaN</td>\n",
              "    </tr>\n",
              "  </tbody>\n",
              "</table>\n",
              "</div>\n",
              "      <button class=\"colab-df-convert\" onclick=\"convertToInteractive('df-8b432f97-0d9b-4540-be5a-b21697f53694')\"\n",
              "              title=\"Convert this dataframe to an interactive table.\"\n",
              "              style=\"display:none;\">\n",
              "        \n",
              "  <svg xmlns=\"http://www.w3.org/2000/svg\" height=\"24px\"viewBox=\"0 0 24 24\"\n",
              "       width=\"24px\">\n",
              "    <path d=\"M0 0h24v24H0V0z\" fill=\"none\"/>\n",
              "    <path d=\"M18.56 5.44l.94 2.06.94-2.06 2.06-.94-2.06-.94-.94-2.06-.94 2.06-2.06.94zm-11 1L8.5 8.5l.94-2.06 2.06-.94-2.06-.94L8.5 2.5l-.94 2.06-2.06.94zm10 10l.94 2.06.94-2.06 2.06-.94-2.06-.94-.94-2.06-.94 2.06-2.06.94z\"/><path d=\"M17.41 7.96l-1.37-1.37c-.4-.4-.92-.59-1.43-.59-.52 0-1.04.2-1.43.59L10.3 9.45l-7.72 7.72c-.78.78-.78 2.05 0 2.83L4 21.41c.39.39.9.59 1.41.59.51 0 1.02-.2 1.41-.59l7.78-7.78 2.81-2.81c.8-.78.8-2.07 0-2.86zM5.41 20L4 18.59l7.72-7.72 1.47 1.35L5.41 20z\"/>\n",
              "  </svg>\n",
              "      </button>\n",
              "      \n",
              "  <style>\n",
              "    .colab-df-container {\n",
              "      display:flex;\n",
              "      flex-wrap:wrap;\n",
              "      gap: 12px;\n",
              "    }\n",
              "\n",
              "    .colab-df-convert {\n",
              "      background-color: #E8F0FE;\n",
              "      border: none;\n",
              "      border-radius: 50%;\n",
              "      cursor: pointer;\n",
              "      display: none;\n",
              "      fill: #1967D2;\n",
              "      height: 32px;\n",
              "      padding: 0 0 0 0;\n",
              "      width: 32px;\n",
              "    }\n",
              "\n",
              "    .colab-df-convert:hover {\n",
              "      background-color: #E2EBFA;\n",
              "      box-shadow: 0px 1px 2px rgba(60, 64, 67, 0.3), 0px 1px 3px 1px rgba(60, 64, 67, 0.15);\n",
              "      fill: #174EA6;\n",
              "    }\n",
              "\n",
              "    [theme=dark] .colab-df-convert {\n",
              "      background-color: #3B4455;\n",
              "      fill: #D2E3FC;\n",
              "    }\n",
              "\n",
              "    [theme=dark] .colab-df-convert:hover {\n",
              "      background-color: #434B5C;\n",
              "      box-shadow: 0px 1px 3px 1px rgba(0, 0, 0, 0.15);\n",
              "      filter: drop-shadow(0px 1px 2px rgba(0, 0, 0, 0.3));\n",
              "      fill: #FFFFFF;\n",
              "    }\n",
              "  </style>\n",
              "\n",
              "      <script>\n",
              "        const buttonEl =\n",
              "          document.querySelector('#df-8b432f97-0d9b-4540-be5a-b21697f53694 button.colab-df-convert');\n",
              "        buttonEl.style.display =\n",
              "          google.colab.kernel.accessAllowed ? 'block' : 'none';\n",
              "\n",
              "        async function convertToInteractive(key) {\n",
              "          const element = document.querySelector('#df-8b432f97-0d9b-4540-be5a-b21697f53694');\n",
              "          const dataTable =\n",
              "            await google.colab.kernel.invokeFunction('convertToInteractive',\n",
              "                                                     [key], {});\n",
              "          if (!dataTable) return;\n",
              "\n",
              "          const docLinkHtml = 'Like what you see? Visit the ' +\n",
              "            '<a target=\"_blank\" href=https://colab.research.google.com/notebooks/data_table.ipynb>data table notebook</a>'\n",
              "            + ' to learn more about interactive tables.';\n",
              "          element.innerHTML = '';\n",
              "          dataTable['output_type'] = 'display_data';\n",
              "          await google.colab.output.renderOutput(dataTable, element);\n",
              "          const docLink = document.createElement('div');\n",
              "          docLink.innerHTML = docLinkHtml;\n",
              "          element.appendChild(docLink);\n",
              "        }\n",
              "      </script>\n",
              "    </div>\n",
              "  </div>\n",
              "  "
            ]
          },
          "metadata": {},
          "execution_count": 131
        }
      ]
    },
    {
      "cell_type": "markdown",
      "source": [
        "# Modeling"
      ],
      "metadata": {
        "id": "LmTKtv6fMIjl"
      }
    },
    {
      "cell_type": "code",
      "source": [
        "# Encoding year and original language\n",
        "c = movies_ratings[['year','original_language']]\n",
        "encoder = OneHotEncoder(sparse=False)\n",
        "encoder.fit(c)\n",
        "c2=encoder.transform(c)\n",
        "df = pd.DataFrame(c2, columns=encoder.get_feature_names())\n",
        "df\n",
        "movies_ratings2=pd.concat([movies_ratings.drop(['year','original_language'],axis=1),df],axis=1)"
      ],
      "metadata": {
        "colab": {
          "base_uri": "https://localhost:8080/"
        },
        "id": "fnBqKbNCLnZQ",
        "outputId": "d3bb1e58-9d84-4824-baef-f93477b853b6"
      },
      "execution_count": 132,
      "outputs": [
        {
          "output_type": "stream",
          "name": "stderr",
          "text": [
            "/usr/local/lib/python3.7/dist-packages/sklearn/utils/deprecation.py:87: FutureWarning: Function get_feature_names is deprecated; get_feature_names is deprecated in 1.0 and will be removed in 1.2. Please use get_feature_names_out instead.\n",
            "  warnings.warn(msg, category=FutureWarning)\n"
          ]
        }
      ]
    },
    {
      "cell_type": "code",
      "source": [
        "# Dropping variables which will not be used\n",
        "movies_ratings=movies_ratings2.drop(['title','description','director','actors','votes','adult','genres','poster_path','production_companies','production_countries'],axis=1)"
      ],
      "metadata": {
        "id": "UuRkRNzdM3BQ"
      },
      "execution_count": 133,
      "outputs": []
    },
    {
      "cell_type": "code",
      "source": [
        "# Dropping null values\n",
        "movies_ratings=movies_ratings.dropna(how='any',axis=0)"
      ],
      "metadata": {
        "id": "-hhWUvwmOZcN"
      },
      "execution_count": 134,
      "outputs": []
    },
    {
      "cell_type": "code",
      "source": [
        "# Splitting the data into training and testing (80 - 20)\n",
        "y = movies_ratings.rating\n",
        "x= movies_ratings.drop('rating',axis=1)\n",
        "x_train,x_test,y_train,y_test=train_test_split(x,y,test_size=0.2,random_state=0)\n"
      ],
      "metadata": {
        "id": "2-3JcWvoOo9f"
      },
      "execution_count": 135,
      "outputs": []
    },
    {
      "cell_type": "markdown",
      "source": [
        "# Linear Regression"
      ],
      "metadata": {
        "id": "coMTcYEdPgd2"
      }
    },
    {
      "cell_type": "code",
      "source": [
        "regressor = LinearRegression()\n",
        "regressor.fit(x_train, y_train)"
      ],
      "metadata": {
        "colab": {
          "base_uri": "https://localhost:8080/"
        },
        "id": "f1NHkTh9PjYT",
        "outputId": "1d04937b-f31f-40ab-8713-ef2bf702c3d4"
      },
      "execution_count": 136,
      "outputs": [
        {
          "output_type": "execute_result",
          "data": {
            "text/plain": [
              "LinearRegression()"
            ]
          },
          "metadata": {},
          "execution_count": 136
        }
      ]
    },
    {
      "cell_type": "code",
      "source": [
        "coeff_df = pd.DataFrame(regressor.coef_, x.columns, columns=['Coefficient'])\n",
        "coeff_df"
      ],
      "metadata": {
        "colab": {
          "base_uri": "https://localhost:8080/",
          "height": 1000
        },
        "id": "B9wVhPCGPtXd",
        "outputId": "c1d1d6c0-ca3f-4122-ef62-6461b16faa37"
      },
      "execution_count": 137,
      "outputs": [
        {
          "output_type": "execute_result",
          "data": {
            "text/plain": [
              "             Coefficient\n",
              "duration    8.190371e-03\n",
              "budget     -1.410092e-09\n",
              "metascore   3.334484e-02\n",
              "popularity  3.851395e-03\n",
              "revenue    -3.483669e-10\n",
              "x0_1970     3.579108e-08\n",
              "x0_1971    -1.523536e-08\n",
              "x0_1972     3.188857e-09\n",
              "x0_1973     2.722624e-09\n",
              "x0_1976     3.281297e-09\n",
              "x0_1977     6.763295e-09\n",
              "x0_1979    -4.749115e-09\n",
              "x0_1980    -5.554908e-09\n",
              "x0_1981     1.770020e-09\n",
              "x0_1982    -4.880191e-02\n",
              "x0_1983    -2.473540e-02\n",
              "x0_1984     3.954324e-01\n",
              "x0_1985    -6.872670e-01\n",
              "x0_1986    -1.606758e-02\n",
              "x0_1987    -3.032786e-01\n",
              "x0_1988    -7.493802e-02\n",
              "x0_1989     2.147686e-01\n",
              "x0_1990    -3.952363e-01\n",
              "x0_1991    -2.371348e-09\n",
              "x0_1992     1.882591e-01\n",
              "x0_1993     1.591849e-01\n",
              "x0_1994    -3.852412e-01\n",
              "x0_1995     5.190922e-01\n",
              "x0_1996     1.623167e-01\n",
              "x0_1997     7.018798e-01\n",
              "x0_1998     4.771123e-02\n",
              "x0_1999     7.213845e-09\n",
              "x0_2000     1.421429e-02\n",
              "x0_2001    -2.891972e-01\n",
              "x0_2002     8.212127e-02\n",
              "x0_2003     3.996606e-01\n",
              "x0_2004    -5.708278e-02\n",
              "x0_2005     2.367235e-01\n",
              "x0_2006     7.417571e-02\n",
              "x0_2007     9.343332e-01\n",
              "x0_2008    -5.210992e-01\n",
              "x0_2009    -2.810526e-01\n",
              "x0_2010     5.604879e-01\n",
              "x0_2011    -3.315383e-01\n",
              "x0_2012    -5.209681e-01\n",
              "x0_2013    -4.761483e-01\n",
              "x0_2014    -1.983008e-01\n",
              "x0_2015     7.568572e-02\n",
              "x0_2016    -1.550938e-01\n",
              "x0_2017     0.000000e+00\n",
              "x1_da      -1.116029e+00\n",
              "x1_en       2.350545e-01\n",
              "x1_fr       8.809748e-01\n",
              "x1_it       0.000000e+00"
            ],
            "text/html": [
              "\n",
              "  <div id=\"df-df3e08f0-7756-4ab9-bd93-57893795107c\">\n",
              "    <div class=\"colab-df-container\">\n",
              "      <div>\n",
              "<style scoped>\n",
              "    .dataframe tbody tr th:only-of-type {\n",
              "        vertical-align: middle;\n",
              "    }\n",
              "\n",
              "    .dataframe tbody tr th {\n",
              "        vertical-align: top;\n",
              "    }\n",
              "\n",
              "    .dataframe thead th {\n",
              "        text-align: right;\n",
              "    }\n",
              "</style>\n",
              "<table border=\"1\" class=\"dataframe\">\n",
              "  <thead>\n",
              "    <tr style=\"text-align: right;\">\n",
              "      <th></th>\n",
              "      <th>Coefficient</th>\n",
              "    </tr>\n",
              "  </thead>\n",
              "  <tbody>\n",
              "    <tr>\n",
              "      <th>duration</th>\n",
              "      <td>8.190371e-03</td>\n",
              "    </tr>\n",
              "    <tr>\n",
              "      <th>budget</th>\n",
              "      <td>-1.410092e-09</td>\n",
              "    </tr>\n",
              "    <tr>\n",
              "      <th>metascore</th>\n",
              "      <td>3.334484e-02</td>\n",
              "    </tr>\n",
              "    <tr>\n",
              "      <th>popularity</th>\n",
              "      <td>3.851395e-03</td>\n",
              "    </tr>\n",
              "    <tr>\n",
              "      <th>revenue</th>\n",
              "      <td>-3.483669e-10</td>\n",
              "    </tr>\n",
              "    <tr>\n",
              "      <th>x0_1970</th>\n",
              "      <td>3.579108e-08</td>\n",
              "    </tr>\n",
              "    <tr>\n",
              "      <th>x0_1971</th>\n",
              "      <td>-1.523536e-08</td>\n",
              "    </tr>\n",
              "    <tr>\n",
              "      <th>x0_1972</th>\n",
              "      <td>3.188857e-09</td>\n",
              "    </tr>\n",
              "    <tr>\n",
              "      <th>x0_1973</th>\n",
              "      <td>2.722624e-09</td>\n",
              "    </tr>\n",
              "    <tr>\n",
              "      <th>x0_1976</th>\n",
              "      <td>3.281297e-09</td>\n",
              "    </tr>\n",
              "    <tr>\n",
              "      <th>x0_1977</th>\n",
              "      <td>6.763295e-09</td>\n",
              "    </tr>\n",
              "    <tr>\n",
              "      <th>x0_1979</th>\n",
              "      <td>-4.749115e-09</td>\n",
              "    </tr>\n",
              "    <tr>\n",
              "      <th>x0_1980</th>\n",
              "      <td>-5.554908e-09</td>\n",
              "    </tr>\n",
              "    <tr>\n",
              "      <th>x0_1981</th>\n",
              "      <td>1.770020e-09</td>\n",
              "    </tr>\n",
              "    <tr>\n",
              "      <th>x0_1982</th>\n",
              "      <td>-4.880191e-02</td>\n",
              "    </tr>\n",
              "    <tr>\n",
              "      <th>x0_1983</th>\n",
              "      <td>-2.473540e-02</td>\n",
              "    </tr>\n",
              "    <tr>\n",
              "      <th>x0_1984</th>\n",
              "      <td>3.954324e-01</td>\n",
              "    </tr>\n",
              "    <tr>\n",
              "      <th>x0_1985</th>\n",
              "      <td>-6.872670e-01</td>\n",
              "    </tr>\n",
              "    <tr>\n",
              "      <th>x0_1986</th>\n",
              "      <td>-1.606758e-02</td>\n",
              "    </tr>\n",
              "    <tr>\n",
              "      <th>x0_1987</th>\n",
              "      <td>-3.032786e-01</td>\n",
              "    </tr>\n",
              "    <tr>\n",
              "      <th>x0_1988</th>\n",
              "      <td>-7.493802e-02</td>\n",
              "    </tr>\n",
              "    <tr>\n",
              "      <th>x0_1989</th>\n",
              "      <td>2.147686e-01</td>\n",
              "    </tr>\n",
              "    <tr>\n",
              "      <th>x0_1990</th>\n",
              "      <td>-3.952363e-01</td>\n",
              "    </tr>\n",
              "    <tr>\n",
              "      <th>x0_1991</th>\n",
              "      <td>-2.371348e-09</td>\n",
              "    </tr>\n",
              "    <tr>\n",
              "      <th>x0_1992</th>\n",
              "      <td>1.882591e-01</td>\n",
              "    </tr>\n",
              "    <tr>\n",
              "      <th>x0_1993</th>\n",
              "      <td>1.591849e-01</td>\n",
              "    </tr>\n",
              "    <tr>\n",
              "      <th>x0_1994</th>\n",
              "      <td>-3.852412e-01</td>\n",
              "    </tr>\n",
              "    <tr>\n",
              "      <th>x0_1995</th>\n",
              "      <td>5.190922e-01</td>\n",
              "    </tr>\n",
              "    <tr>\n",
              "      <th>x0_1996</th>\n",
              "      <td>1.623167e-01</td>\n",
              "    </tr>\n",
              "    <tr>\n",
              "      <th>x0_1997</th>\n",
              "      <td>7.018798e-01</td>\n",
              "    </tr>\n",
              "    <tr>\n",
              "      <th>x0_1998</th>\n",
              "      <td>4.771123e-02</td>\n",
              "    </tr>\n",
              "    <tr>\n",
              "      <th>x0_1999</th>\n",
              "      <td>7.213845e-09</td>\n",
              "    </tr>\n",
              "    <tr>\n",
              "      <th>x0_2000</th>\n",
              "      <td>1.421429e-02</td>\n",
              "    </tr>\n",
              "    <tr>\n",
              "      <th>x0_2001</th>\n",
              "      <td>-2.891972e-01</td>\n",
              "    </tr>\n",
              "    <tr>\n",
              "      <th>x0_2002</th>\n",
              "      <td>8.212127e-02</td>\n",
              "    </tr>\n",
              "    <tr>\n",
              "      <th>x0_2003</th>\n",
              "      <td>3.996606e-01</td>\n",
              "    </tr>\n",
              "    <tr>\n",
              "      <th>x0_2004</th>\n",
              "      <td>-5.708278e-02</td>\n",
              "    </tr>\n",
              "    <tr>\n",
              "      <th>x0_2005</th>\n",
              "      <td>2.367235e-01</td>\n",
              "    </tr>\n",
              "    <tr>\n",
              "      <th>x0_2006</th>\n",
              "      <td>7.417571e-02</td>\n",
              "    </tr>\n",
              "    <tr>\n",
              "      <th>x0_2007</th>\n",
              "      <td>9.343332e-01</td>\n",
              "    </tr>\n",
              "    <tr>\n",
              "      <th>x0_2008</th>\n",
              "      <td>-5.210992e-01</td>\n",
              "    </tr>\n",
              "    <tr>\n",
              "      <th>x0_2009</th>\n",
              "      <td>-2.810526e-01</td>\n",
              "    </tr>\n",
              "    <tr>\n",
              "      <th>x0_2010</th>\n",
              "      <td>5.604879e-01</td>\n",
              "    </tr>\n",
              "    <tr>\n",
              "      <th>x0_2011</th>\n",
              "      <td>-3.315383e-01</td>\n",
              "    </tr>\n",
              "    <tr>\n",
              "      <th>x0_2012</th>\n",
              "      <td>-5.209681e-01</td>\n",
              "    </tr>\n",
              "    <tr>\n",
              "      <th>x0_2013</th>\n",
              "      <td>-4.761483e-01</td>\n",
              "    </tr>\n",
              "    <tr>\n",
              "      <th>x0_2014</th>\n",
              "      <td>-1.983008e-01</td>\n",
              "    </tr>\n",
              "    <tr>\n",
              "      <th>x0_2015</th>\n",
              "      <td>7.568572e-02</td>\n",
              "    </tr>\n",
              "    <tr>\n",
              "      <th>x0_2016</th>\n",
              "      <td>-1.550938e-01</td>\n",
              "    </tr>\n",
              "    <tr>\n",
              "      <th>x0_2017</th>\n",
              "      <td>0.000000e+00</td>\n",
              "    </tr>\n",
              "    <tr>\n",
              "      <th>x1_da</th>\n",
              "      <td>-1.116029e+00</td>\n",
              "    </tr>\n",
              "    <tr>\n",
              "      <th>x1_en</th>\n",
              "      <td>2.350545e-01</td>\n",
              "    </tr>\n",
              "    <tr>\n",
              "      <th>x1_fr</th>\n",
              "      <td>8.809748e-01</td>\n",
              "    </tr>\n",
              "    <tr>\n",
              "      <th>x1_it</th>\n",
              "      <td>0.000000e+00</td>\n",
              "    </tr>\n",
              "  </tbody>\n",
              "</table>\n",
              "</div>\n",
              "      <button class=\"colab-df-convert\" onclick=\"convertToInteractive('df-df3e08f0-7756-4ab9-bd93-57893795107c')\"\n",
              "              title=\"Convert this dataframe to an interactive table.\"\n",
              "              style=\"display:none;\">\n",
              "        \n",
              "  <svg xmlns=\"http://www.w3.org/2000/svg\" height=\"24px\"viewBox=\"0 0 24 24\"\n",
              "       width=\"24px\">\n",
              "    <path d=\"M0 0h24v24H0V0z\" fill=\"none\"/>\n",
              "    <path d=\"M18.56 5.44l.94 2.06.94-2.06 2.06-.94-2.06-.94-.94-2.06-.94 2.06-2.06.94zm-11 1L8.5 8.5l.94-2.06 2.06-.94-2.06-.94L8.5 2.5l-.94 2.06-2.06.94zm10 10l.94 2.06.94-2.06 2.06-.94-2.06-.94-.94-2.06-.94 2.06-2.06.94z\"/><path d=\"M17.41 7.96l-1.37-1.37c-.4-.4-.92-.59-1.43-.59-.52 0-1.04.2-1.43.59L10.3 9.45l-7.72 7.72c-.78.78-.78 2.05 0 2.83L4 21.41c.39.39.9.59 1.41.59.51 0 1.02-.2 1.41-.59l7.78-7.78 2.81-2.81c.8-.78.8-2.07 0-2.86zM5.41 20L4 18.59l7.72-7.72 1.47 1.35L5.41 20z\"/>\n",
              "  </svg>\n",
              "      </button>\n",
              "      \n",
              "  <style>\n",
              "    .colab-df-container {\n",
              "      display:flex;\n",
              "      flex-wrap:wrap;\n",
              "      gap: 12px;\n",
              "    }\n",
              "\n",
              "    .colab-df-convert {\n",
              "      background-color: #E8F0FE;\n",
              "      border: none;\n",
              "      border-radius: 50%;\n",
              "      cursor: pointer;\n",
              "      display: none;\n",
              "      fill: #1967D2;\n",
              "      height: 32px;\n",
              "      padding: 0 0 0 0;\n",
              "      width: 32px;\n",
              "    }\n",
              "\n",
              "    .colab-df-convert:hover {\n",
              "      background-color: #E2EBFA;\n",
              "      box-shadow: 0px 1px 2px rgba(60, 64, 67, 0.3), 0px 1px 3px 1px rgba(60, 64, 67, 0.15);\n",
              "      fill: #174EA6;\n",
              "    }\n",
              "\n",
              "    [theme=dark] .colab-df-convert {\n",
              "      background-color: #3B4455;\n",
              "      fill: #D2E3FC;\n",
              "    }\n",
              "\n",
              "    [theme=dark] .colab-df-convert:hover {\n",
              "      background-color: #434B5C;\n",
              "      box-shadow: 0px 1px 3px 1px rgba(0, 0, 0, 0.15);\n",
              "      filter: drop-shadow(0px 1px 2px rgba(0, 0, 0, 0.3));\n",
              "      fill: #FFFFFF;\n",
              "    }\n",
              "  </style>\n",
              "\n",
              "      <script>\n",
              "        const buttonEl =\n",
              "          document.querySelector('#df-df3e08f0-7756-4ab9-bd93-57893795107c button.colab-df-convert');\n",
              "        buttonEl.style.display =\n",
              "          google.colab.kernel.accessAllowed ? 'block' : 'none';\n",
              "\n",
              "        async function convertToInteractive(key) {\n",
              "          const element = document.querySelector('#df-df3e08f0-7756-4ab9-bd93-57893795107c');\n",
              "          const dataTable =\n",
              "            await google.colab.kernel.invokeFunction('convertToInteractive',\n",
              "                                                     [key], {});\n",
              "          if (!dataTable) return;\n",
              "\n",
              "          const docLinkHtml = 'Like what you see? Visit the ' +\n",
              "            '<a target=\"_blank\" href=https://colab.research.google.com/notebooks/data_table.ipynb>data table notebook</a>'\n",
              "            + ' to learn more about interactive tables.';\n",
              "          element.innerHTML = '';\n",
              "          dataTable['output_type'] = 'display_data';\n",
              "          await google.colab.output.renderOutput(dataTable, element);\n",
              "          const docLink = document.createElement('div');\n",
              "          docLink.innerHTML = docLinkHtml;\n",
              "          element.appendChild(docLink);\n",
              "        }\n",
              "      </script>\n",
              "    </div>\n",
              "  </div>\n",
              "  "
            ]
          },
          "metadata": {},
          "execution_count": 137
        }
      ]
    },
    {
      "cell_type": "code",
      "source": [
        "# Prediction\n",
        "y_pred = regressor.predict(x_test)"
      ],
      "metadata": {
        "id": "ww1GlMTHQDR5"
      },
      "execution_count": 138,
      "outputs": []
    },
    {
      "cell_type": "code",
      "source": [
        "df = pd.DataFrame({'Actual': y_test, 'Predicted': y_pred})\n",
        "df1 = df.head(20)\n",
        "df1"
      ],
      "metadata": {
        "colab": {
          "base_uri": "https://localhost:8080/",
          "height": 676
        },
        "id": "WAlDgkgGQ3v9",
        "outputId": "400c8392-a50f-45b7-8a98-4e64acc034ad"
      },
      "execution_count": 139,
      "outputs": [
        {
          "output_type": "execute_result",
          "data": {
            "text/plain": [
              "     Actual  Predicted\n",
              "189     7.1   6.764286\n",
              "416     6.7   6.709752\n",
              "41      7.3   6.727547\n",
              "217     5.9   6.843220\n",
              "60      6.6   6.389243\n",
              "20      7.5   7.024758\n",
              "387     7.2   6.281361\n",
              "450     6.2   6.606201\n",
              "438     7.6   6.783442\n",
              "376     6.8   7.476733\n",
              "348     8.6   7.211468\n",
              "434     7.3   7.035414\n",
              "23      6.5   6.162316\n",
              "365     8.5   7.091914\n",
              "484     7.1   7.347184\n",
              "112     6.7   6.926463\n",
              "322     5.5   7.319363\n",
              "419     7.1   6.245808\n",
              "418     7.2   6.621822\n",
              "63      7.0   6.557303"
            ],
            "text/html": [
              "\n",
              "  <div id=\"df-11f6a434-2b71-4df8-9639-2e1df84f9cbe\">\n",
              "    <div class=\"colab-df-container\">\n",
              "      <div>\n",
              "<style scoped>\n",
              "    .dataframe tbody tr th:only-of-type {\n",
              "        vertical-align: middle;\n",
              "    }\n",
              "\n",
              "    .dataframe tbody tr th {\n",
              "        vertical-align: top;\n",
              "    }\n",
              "\n",
              "    .dataframe thead th {\n",
              "        text-align: right;\n",
              "    }\n",
              "</style>\n",
              "<table border=\"1\" class=\"dataframe\">\n",
              "  <thead>\n",
              "    <tr style=\"text-align: right;\">\n",
              "      <th></th>\n",
              "      <th>Actual</th>\n",
              "      <th>Predicted</th>\n",
              "    </tr>\n",
              "  </thead>\n",
              "  <tbody>\n",
              "    <tr>\n",
              "      <th>189</th>\n",
              "      <td>7.1</td>\n",
              "      <td>6.764286</td>\n",
              "    </tr>\n",
              "    <tr>\n",
              "      <th>416</th>\n",
              "      <td>6.7</td>\n",
              "      <td>6.709752</td>\n",
              "    </tr>\n",
              "    <tr>\n",
              "      <th>41</th>\n",
              "      <td>7.3</td>\n",
              "      <td>6.727547</td>\n",
              "    </tr>\n",
              "    <tr>\n",
              "      <th>217</th>\n",
              "      <td>5.9</td>\n",
              "      <td>6.843220</td>\n",
              "    </tr>\n",
              "    <tr>\n",
              "      <th>60</th>\n",
              "      <td>6.6</td>\n",
              "      <td>6.389243</td>\n",
              "    </tr>\n",
              "    <tr>\n",
              "      <th>20</th>\n",
              "      <td>7.5</td>\n",
              "      <td>7.024758</td>\n",
              "    </tr>\n",
              "    <tr>\n",
              "      <th>387</th>\n",
              "      <td>7.2</td>\n",
              "      <td>6.281361</td>\n",
              "    </tr>\n",
              "    <tr>\n",
              "      <th>450</th>\n",
              "      <td>6.2</td>\n",
              "      <td>6.606201</td>\n",
              "    </tr>\n",
              "    <tr>\n",
              "      <th>438</th>\n",
              "      <td>7.6</td>\n",
              "      <td>6.783442</td>\n",
              "    </tr>\n",
              "    <tr>\n",
              "      <th>376</th>\n",
              "      <td>6.8</td>\n",
              "      <td>7.476733</td>\n",
              "    </tr>\n",
              "    <tr>\n",
              "      <th>348</th>\n",
              "      <td>8.6</td>\n",
              "      <td>7.211468</td>\n",
              "    </tr>\n",
              "    <tr>\n",
              "      <th>434</th>\n",
              "      <td>7.3</td>\n",
              "      <td>7.035414</td>\n",
              "    </tr>\n",
              "    <tr>\n",
              "      <th>23</th>\n",
              "      <td>6.5</td>\n",
              "      <td>6.162316</td>\n",
              "    </tr>\n",
              "    <tr>\n",
              "      <th>365</th>\n",
              "      <td>8.5</td>\n",
              "      <td>7.091914</td>\n",
              "    </tr>\n",
              "    <tr>\n",
              "      <th>484</th>\n",
              "      <td>7.1</td>\n",
              "      <td>7.347184</td>\n",
              "    </tr>\n",
              "    <tr>\n",
              "      <th>112</th>\n",
              "      <td>6.7</td>\n",
              "      <td>6.926463</td>\n",
              "    </tr>\n",
              "    <tr>\n",
              "      <th>322</th>\n",
              "      <td>5.5</td>\n",
              "      <td>7.319363</td>\n",
              "    </tr>\n",
              "    <tr>\n",
              "      <th>419</th>\n",
              "      <td>7.1</td>\n",
              "      <td>6.245808</td>\n",
              "    </tr>\n",
              "    <tr>\n",
              "      <th>418</th>\n",
              "      <td>7.2</td>\n",
              "      <td>6.621822</td>\n",
              "    </tr>\n",
              "    <tr>\n",
              "      <th>63</th>\n",
              "      <td>7.0</td>\n",
              "      <td>6.557303</td>\n",
              "    </tr>\n",
              "  </tbody>\n",
              "</table>\n",
              "</div>\n",
              "      <button class=\"colab-df-convert\" onclick=\"convertToInteractive('df-11f6a434-2b71-4df8-9639-2e1df84f9cbe')\"\n",
              "              title=\"Convert this dataframe to an interactive table.\"\n",
              "              style=\"display:none;\">\n",
              "        \n",
              "  <svg xmlns=\"http://www.w3.org/2000/svg\" height=\"24px\"viewBox=\"0 0 24 24\"\n",
              "       width=\"24px\">\n",
              "    <path d=\"M0 0h24v24H0V0z\" fill=\"none\"/>\n",
              "    <path d=\"M18.56 5.44l.94 2.06.94-2.06 2.06-.94-2.06-.94-.94-2.06-.94 2.06-2.06.94zm-11 1L8.5 8.5l.94-2.06 2.06-.94-2.06-.94L8.5 2.5l-.94 2.06-2.06.94zm10 10l.94 2.06.94-2.06 2.06-.94-2.06-.94-.94-2.06-.94 2.06-2.06.94z\"/><path d=\"M17.41 7.96l-1.37-1.37c-.4-.4-.92-.59-1.43-.59-.52 0-1.04.2-1.43.59L10.3 9.45l-7.72 7.72c-.78.78-.78 2.05 0 2.83L4 21.41c.39.39.9.59 1.41.59.51 0 1.02-.2 1.41-.59l7.78-7.78 2.81-2.81c.8-.78.8-2.07 0-2.86zM5.41 20L4 18.59l7.72-7.72 1.47 1.35L5.41 20z\"/>\n",
              "  </svg>\n",
              "      </button>\n",
              "      \n",
              "  <style>\n",
              "    .colab-df-container {\n",
              "      display:flex;\n",
              "      flex-wrap:wrap;\n",
              "      gap: 12px;\n",
              "    }\n",
              "\n",
              "    .colab-df-convert {\n",
              "      background-color: #E8F0FE;\n",
              "      border: none;\n",
              "      border-radius: 50%;\n",
              "      cursor: pointer;\n",
              "      display: none;\n",
              "      fill: #1967D2;\n",
              "      height: 32px;\n",
              "      padding: 0 0 0 0;\n",
              "      width: 32px;\n",
              "    }\n",
              "\n",
              "    .colab-df-convert:hover {\n",
              "      background-color: #E2EBFA;\n",
              "      box-shadow: 0px 1px 2px rgba(60, 64, 67, 0.3), 0px 1px 3px 1px rgba(60, 64, 67, 0.15);\n",
              "      fill: #174EA6;\n",
              "    }\n",
              "\n",
              "    [theme=dark] .colab-df-convert {\n",
              "      background-color: #3B4455;\n",
              "      fill: #D2E3FC;\n",
              "    }\n",
              "\n",
              "    [theme=dark] .colab-df-convert:hover {\n",
              "      background-color: #434B5C;\n",
              "      box-shadow: 0px 1px 3px 1px rgba(0, 0, 0, 0.15);\n",
              "      filter: drop-shadow(0px 1px 2px rgba(0, 0, 0, 0.3));\n",
              "      fill: #FFFFFF;\n",
              "    }\n",
              "  </style>\n",
              "\n",
              "      <script>\n",
              "        const buttonEl =\n",
              "          document.querySelector('#df-11f6a434-2b71-4df8-9639-2e1df84f9cbe button.colab-df-convert');\n",
              "        buttonEl.style.display =\n",
              "          google.colab.kernel.accessAllowed ? 'block' : 'none';\n",
              "\n",
              "        async function convertToInteractive(key) {\n",
              "          const element = document.querySelector('#df-11f6a434-2b71-4df8-9639-2e1df84f9cbe');\n",
              "          const dataTable =\n",
              "            await google.colab.kernel.invokeFunction('convertToInteractive',\n",
              "                                                     [key], {});\n",
              "          if (!dataTable) return;\n",
              "\n",
              "          const docLinkHtml = 'Like what you see? Visit the ' +\n",
              "            '<a target=\"_blank\" href=https://colab.research.google.com/notebooks/data_table.ipynb>data table notebook</a>'\n",
              "            + ' to learn more about interactive tables.';\n",
              "          element.innerHTML = '';\n",
              "          dataTable['output_type'] = 'display_data';\n",
              "          await google.colab.output.renderOutput(dataTable, element);\n",
              "          const docLink = document.createElement('div');\n",
              "          docLink.innerHTML = docLinkHtml;\n",
              "          element.appendChild(docLink);\n",
              "        }\n",
              "      </script>\n",
              "    </div>\n",
              "  </div>\n",
              "  "
            ]
          },
          "metadata": {},
          "execution_count": 139
        }
      ]
    },
    {
      "cell_type": "code",
      "source": [
        "df1.plot(kind='bar',figsize=(10,8))\n",
        "plt.grid(which='major',linestyle='-',linewidth='0.5',color='green')\n",
        "plt.grid(which='minor',linestyle=':',linewidth='0.5',color='yellow')\n",
        "plt.show()"
      ],
      "metadata": {
        "colab": {
          "base_uri": "https://localhost:8080/",
          "height": 492
        },
        "id": "8dlh3FrLR7qB",
        "outputId": "62f719b8-ed9b-4c73-a6f0-da5dd7ca09a6"
      },
      "execution_count": 140,
      "outputs": [
        {
          "output_type": "display_data",
          "data": {
            "text/plain": [
              "<Figure size 720x576 with 1 Axes>"
            ],
            "image/png": "[encoded data removed]"
          },
          "metadata": {
            "needs_background": "light"
          }
        }
      ]
    },
    {
      "cell_type": "code",
      "source": [
        "print('Mean Absolute Error:', metrics.mean_absolute_error(y_test,y_pred))\n",
        "print('Mean Squared Error:', metrics.mean_squared_error(y_test,y_pred))\n",
        "print('Root Mean Squared Error:', np.sqrt(metrics.mean_squared_error(y_test,y_pred)))\n"
      ],
      "metadata": {
        "colab": {
          "base_uri": "https://localhost:8080/"
        },
        "id": "zLoK99tSSoCC",
        "outputId": "75893d08-b264-45d2-e409-783f5b1349c8"
      },
      "execution_count": 141,
      "outputs": [
        {
          "output_type": "stream",
          "name": "stdout",
          "text": [
            "Mean Absolute Error: 0.637202327022861\n",
            "Mean Squared Error: 0.6277150209302114\n",
            "Root Mean Squared Error: 0.7922846842708822\n"
          ]
        }
      ]
    },
    {
      "cell_type": "markdown",
      "source": [
        "# Regression Tree"
      ],
      "metadata": {
        "id": "h2lnIZGJTRkL"
      }
    },
    {
      "cell_type": "code",
      "source": [
        "regr_2 = DecisionTreeRegressor(max_depth=5)\n",
        "reg_tree=regr_2.fit(x_train,y_train)"
      ],
      "metadata": {
        "id": "_Jasp1neTRBy"
      },
      "execution_count": 142,
      "outputs": []
    },
    {
      "cell_type": "code",
      "source": [
        "# Predict\n",
        "y_2=regr_2.predict(x_test)\n",
        "y_2"
      ],
      "metadata": {
        "colab": {
          "base_uri": "https://localhost:8080/"
        },
        "id": "HjEIifZBTi5A",
        "outputId": "227b3fde-2df7-4dec-b5c6-af320212b992"
      },
      "execution_count": 143,
      "outputs": [
        {
          "output_type": "execute_result",
          "data": {
            "text/plain": [
              "array([7.4375    , 6.47142857, 6.88974359, 6.45      , 6.99166667,\n",
              "       7.9       , 6.        , 6.47142857, 6.88974359, 6.45      ,\n",
              "       7.575     , 6.45      , 6.88974359, 6.99166667, 6.99166667,\n",
              "       6.99166667, 6.45      , 6.47142857, 5.6       , 6.88974359,\n",
              "       6.47142857, 6.47142857, 6.88974359, 7.5       , 6.99166667,\n",
              "       6.99166667, 6.88974359, 6.        , 7.5       ])"
            ]
          },
          "metadata": {},
          "execution_count": 143
        }
      ]
    },
    {
      "cell_type": "code",
      "source": [
        "df2 = pd.DataFrame({'Actual': y_test,'Predicted': y_2})\n",
        "df3 = df.head(20)\n",
        "df3"
      ],
      "metadata": {
        "colab": {
          "base_uri": "https://localhost:8080/",
          "height": 676
        },
        "id": "IZiCCsZATrGk",
        "outputId": "45180809-a2cf-448c-febd-0f83ea978bfa"
      },
      "execution_count": 144,
      "outputs": [
        {
          "output_type": "execute_result",
          "data": {
            "text/plain": [
              "     Actual  Predicted\n",
              "189     7.1   6.764286\n",
              "416     6.7   6.709752\n",
              "41      7.3   6.727547\n",
              "217     5.9   6.843220\n",
              "60      6.6   6.389243\n",
              "20      7.5   7.024758\n",
              "387     7.2   6.281361\n",
              "450     6.2   6.606201\n",
              "438     7.6   6.783442\n",
              "376     6.8   7.476733\n",
              "348     8.6   7.211468\n",
              "434     7.3   7.035414\n",
              "23      6.5   6.162316\n",
              "365     8.5   7.091914\n",
              "484     7.1   7.347184\n",
              "112     6.7   6.926463\n",
              "322     5.5   7.319363\n",
              "419     7.1   6.245808\n",
              "418     7.2   6.621822\n",
              "63      7.0   6.557303"
            ],
            "text/html": [
              "\n",
              "  <div id=\"df-aaf8faca-9a94-433f-a41c-5f6ead94b278\">\n",
              "    <div class=\"colab-df-container\">\n",
              "      <div>\n",
              "<style scoped>\n",
              "    .dataframe tbody tr th:only-of-type {\n",
              "        vertical-align: middle;\n",
              "    }\n",
              "\n",
              "    .dataframe tbody tr th {\n",
              "        vertical-align: top;\n",
              "    }\n",
              "\n",
              "    .dataframe thead th {\n",
              "        text-align: right;\n",
              "    }\n",
              "</style>\n",
              "<table border=\"1\" class=\"dataframe\">\n",
              "  <thead>\n",
              "    <tr style=\"text-align: right;\">\n",
              "      <th></th>\n",
              "      <th>Actual</th>\n",
              "      <th>Predicted</th>\n",
              "    </tr>\n",
              "  </thead>\n",
              "  <tbody>\n",
              "    <tr>\n",
              "      <th>189</th>\n",
              "      <td>7.1</td>\n",
              "      <td>6.764286</td>\n",
              "    </tr>\n",
              "    <tr>\n",
              "      <th>416</th>\n",
              "      <td>6.7</td>\n",
              "      <td>6.709752</td>\n",
              "    </tr>\n",
              "    <tr>\n",
              "      <th>41</th>\n",
              "      <td>7.3</td>\n",
              "      <td>6.727547</td>\n",
              "    </tr>\n",
              "    <tr>\n",
              "      <th>217</th>\n",
              "      <td>5.9</td>\n",
              "      <td>6.843220</td>\n",
              "    </tr>\n",
              "    <tr>\n",
              "      <th>60</th>\n",
              "      <td>6.6</td>\n",
              "      <td>6.389243</td>\n",
              "    </tr>\n",
              "    <tr>\n",
              "      <th>20</th>\n",
              "      <td>7.5</td>\n",
              "      <td>7.024758</td>\n",
              "    </tr>\n",
              "    <tr>\n",
              "      <th>387</th>\n",
              "      <td>7.2</td>\n",
              "      <td>6.281361</td>\n",
              "    </tr>\n",
              "    <tr>\n",
              "      <th>450</th>\n",
              "      <td>6.2</td>\n",
              "      <td>6.606201</td>\n",
              "    </tr>\n",
              "    <tr>\n",
              "      <th>438</th>\n",
              "      <td>7.6</td>\n",
              "      <td>6.783442</td>\n",
              "    </tr>\n",
              "    <tr>\n",
              "      <th>376</th>\n",
              "      <td>6.8</td>\n",
              "      <td>7.476733</td>\n",
              "    </tr>\n",
              "    <tr>\n",
              "      <th>348</th>\n",
              "      <td>8.6</td>\n",
              "      <td>7.211468</td>\n",
              "    </tr>\n",
              "    <tr>\n",
              "      <th>434</th>\n",
              "      <td>7.3</td>\n",
              "      <td>7.035414</td>\n",
              "    </tr>\n",
              "    <tr>\n",
              "      <th>23</th>\n",
              "      <td>6.5</td>\n",
              "      <td>6.162316</td>\n",
              "    </tr>\n",
              "    <tr>\n",
              "      <th>365</th>\n",
              "      <td>8.5</td>\n",
              "      <td>7.091914</td>\n",
              "    </tr>\n",
              "    <tr>\n",
              "      <th>484</th>\n",
              "      <td>7.1</td>\n",
              "      <td>7.347184</td>\n",
              "    </tr>\n",
              "    <tr>\n",
              "      <th>112</th>\n",
              "      <td>6.7</td>\n",
              "      <td>6.926463</td>\n",
              "    </tr>\n",
              "    <tr>\n",
              "      <th>322</th>\n",
              "      <td>5.5</td>\n",
              "      <td>7.319363</td>\n",
              "    </tr>\n",
              "    <tr>\n",
              "      <th>419</th>\n",
              "      <td>7.1</td>\n",
              "      <td>6.245808</td>\n",
              "    </tr>\n",
              "    <tr>\n",
              "      <th>418</th>\n",
              "      <td>7.2</td>\n",
              "      <td>6.621822</td>\n",
              "    </tr>\n",
              "    <tr>\n",
              "      <th>63</th>\n",
              "      <td>7.0</td>\n",
              "      <td>6.557303</td>\n",
              "    </tr>\n",
              "  </tbody>\n",
              "</table>\n",
              "</div>\n",
              "      <button class=\"colab-df-convert\" onclick=\"convertToInteractive('df-aaf8faca-9a94-433f-a41c-5f6ead94b278')\"\n",
              "              title=\"Convert this dataframe to an interactive table.\"\n",
              "              style=\"display:none;\">\n",
              "        \n",
              "  <svg xmlns=\"http://www.w3.org/2000/svg\" height=\"24px\"viewBox=\"0 0 24 24\"\n",
              "       width=\"24px\">\n",
              "    <path d=\"M0 0h24v24H0V0z\" fill=\"none\"/>\n",
              "    <path d=\"M18.56 5.44l.94 2.06.94-2.06 2.06-.94-2.06-.94-.94-2.06-.94 2.06-2.06.94zm-11 1L8.5 8.5l.94-2.06 2.06-.94-2.06-.94L8.5 2.5l-.94 2.06-2.06.94zm10 10l.94 2.06.94-2.06 2.06-.94-2.06-.94-.94-2.06-.94 2.06-2.06.94z\"/><path d=\"M17.41 7.96l-1.37-1.37c-.4-.4-.92-.59-1.43-.59-.52 0-1.04.2-1.43.59L10.3 9.45l-7.72 7.72c-.78.78-.78 2.05 0 2.83L4 21.41c.39.39.9.59 1.41.59.51 0 1.02-.2 1.41-.59l7.78-7.78 2.81-2.81c.8-.78.8-2.07 0-2.86zM5.41 20L4 18.59l7.72-7.72 1.47 1.35L5.41 20z\"/>\n",
              "  </svg>\n",
              "      </button>\n",
              "      \n",
              "  <style>\n",
              "    .colab-df-container {\n",
              "      display:flex;\n",
              "      flex-wrap:wrap;\n",
              "      gap: 12px;\n",
              "    }\n",
              "\n",
              "    .colab-df-convert {\n",
              "      background-color: #E8F0FE;\n",
              "      border: none;\n",
              "      border-radius: 50%;\n",
              "      cursor: pointer;\n",
              "      display: none;\n",
              "      fill: #1967D2;\n",
              "      height: 32px;\n",
              "      padding: 0 0 0 0;\n",
              "      width: 32px;\n",
              "    }\n",
              "\n",
              "    .colab-df-convert:hover {\n",
              "      background-color: #E2EBFA;\n",
              "      box-shadow: 0px 1px 2px rgba(60, 64, 67, 0.3), 0px 1px 3px 1px rgba(60, 64, 67, 0.15);\n",
              "      fill: #174EA6;\n",
              "    }\n",
              "\n",
              "    [theme=dark] .colab-df-convert {\n",
              "      background-color: #3B4455;\n",
              "      fill: #D2E3FC;\n",
              "    }\n",
              "\n",
              "    [theme=dark] .colab-df-convert:hover {\n",
              "      background-color: #434B5C;\n",
              "      box-shadow: 0px 1px 3px 1px rgba(0, 0, 0, 0.15);\n",
              "      filter: drop-shadow(0px 1px 2px rgba(0, 0, 0, 0.3));\n",
              "      fill: #FFFFFF;\n",
              "    }\n",
              "  </style>\n",
              "\n",
              "      <script>\n",
              "        const buttonEl =\n",
              "          document.querySelector('#df-aaf8faca-9a94-433f-a41c-5f6ead94b278 button.colab-df-convert');\n",
              "        buttonEl.style.display =\n",
              "          google.colab.kernel.accessAllowed ? 'block' : 'none';\n",
              "\n",
              "        async function convertToInteractive(key) {\n",
              "          const element = document.querySelector('#df-aaf8faca-9a94-433f-a41c-5f6ead94b278');\n",
              "          const dataTable =\n",
              "            await google.colab.kernel.invokeFunction('convertToInteractive',\n",
              "                                                     [key], {});\n",
              "          if (!dataTable) return;\n",
              "\n",
              "          const docLinkHtml = 'Like what you see? Visit the ' +\n",
              "            '<a target=\"_blank\" href=https://colab.research.google.com/notebooks/data_table.ipynb>data table notebook</a>'\n",
              "            + ' to learn more about interactive tables.';\n",
              "          element.innerHTML = '';\n",
              "          dataTable['output_type'] = 'display_data';\n",
              "          await google.colab.output.renderOutput(dataTable, element);\n",
              "          const docLink = document.createElement('div');\n",
              "          docLink.innerHTML = docLinkHtml;\n",
              "          element.appendChild(docLink);\n",
              "        }\n",
              "      </script>\n",
              "    </div>\n",
              "  </div>\n",
              "  "
            ]
          },
          "metadata": {},
          "execution_count": 144
        }
      ]
    },
    {
      "cell_type": "code",
      "source": [
        "print('Mean Absolute Error:', metrics.mean_absolute_error(y_test,y_2))\n",
        "print('Mean Squared Error:', metrics.mean_squared_error(y_test,y_2))\n",
        "print('Root Mean Squared Error:', np.sqrt(metrics.mean_squared_error(y_test,y_2)))\n"
      ],
      "metadata": {
        "colab": {
          "base_uri": "https://localhost:8080/"
        },
        "id": "eDExX9nZT-2E",
        "outputId": "07b9908c-2da6-42b9-b96d-40ef5812beec"
      },
      "execution_count": 145,
      "outputs": [
        {
          "output_type": "stream",
          "name": "stdout",
          "text": [
            "Mean Absolute Error: 0.7292677150435769\n",
            "Mean Squared Error: 0.8174128299427299\n",
            "Root Mean Squared Error: 0.9041088595643392\n"
          ]
        }
      ]
    },
    {
      "cell_type": "code",
      "source": [
        "df3.plot(kind='bar',figsize=(10,8))\n",
        "plt.grid(which='major',linestyle='-',linewidth='0.5',color='green')\n",
        "plt.grid(which='minor',linestyle=':',linewidth='0.5',color='yellow')\n",
        "plt.show()"
      ],
      "metadata": {
        "colab": {
          "base_uri": "https://localhost:8080/",
          "height": 492
        },
        "id": "ITQbtqrWUS80",
        "outputId": "226d481f-dc22-4987-a433-f72df8ffa31c"
      },
      "execution_count": 146,
      "outputs": [
        {
          "output_type": "display_data",
          "data": {
            "text/plain": [
              "<Figure size 720x576 with 1 Axes>"
            ],
            "image/png": "[encoded data removed]"
          },
          "metadata": {
            "needs_background": "light"
          }
        }
      ]
    },
    {
      "cell_type": "markdown",
      "source": [
        "# Random Forest"
      ],
      "metadata": {
        "id": "LO8PPb2AUhlQ"
      }
    },
    {
      "cell_type": "code",
      "source": [
        "model = RandomForestRegressor()\n",
        "model.fit(x_train,y_train)\n",
        "predicted_ratings = model.predict(x_test)"
      ],
      "metadata": {
        "id": "AOdPGGl4UkQr"
      },
      "execution_count": 147,
      "outputs": []
    },
    {
      "cell_type": "code",
      "source": [
        "df7 = pd.DataFrame({'Actual':y_test, 'Predicted':predicted_ratings})\n",
        "df8 = df3.head(20)\n",
        "df8"
      ],
      "metadata": {
        "colab": {
          "base_uri": "https://localhost:8080/",
          "height": 676
        },
        "id": "lJlKIEVXUzTb",
        "outputId": "e40c6ca3-3a27-4ff7-c6b3-d97c56bca98e"
      },
      "execution_count": 148,
      "outputs": [
        {
          "output_type": "execute_result",
          "data": {
            "text/plain": [
              "     Actual  Predicted\n",
              "189     7.1   6.764286\n",
              "416     6.7   6.709752\n",
              "41      7.3   6.727547\n",
              "217     5.9   6.843220\n",
              "60      6.6   6.389243\n",
              "20      7.5   7.024758\n",
              "387     7.2   6.281361\n",
              "450     6.2   6.606201\n",
              "438     7.6   6.783442\n",
              "376     6.8   7.476733\n",
              "348     8.6   7.211468\n",
              "434     7.3   7.035414\n",
              "23      6.5   6.162316\n",
              "365     8.5   7.091914\n",
              "484     7.1   7.347184\n",
              "112     6.7   6.926463\n",
              "322     5.5   7.319363\n",
              "419     7.1   6.245808\n",
              "418     7.2   6.621822\n",
              "63      7.0   6.557303"
            ],
            "text/html": [
              "\n",
              "  <div id=\"df-016dcd93-9db6-4ae6-8942-924f46c4a3c8\">\n",
              "    <div class=\"colab-df-container\">\n",
              "      <div>\n",
              "<style scoped>\n",
              "    .dataframe tbody tr th:only-of-type {\n",
              "        vertical-align: middle;\n",
              "    }\n",
              "\n",
              "    .dataframe tbody tr th {\n",
              "        vertical-align: top;\n",
              "    }\n",
              "\n",
              "    .dataframe thead th {\n",
              "        text-align: right;\n",
              "    }\n",
              "</style>\n",
              "<table border=\"1\" class=\"dataframe\">\n",
              "  <thead>\n",
              "    <tr style=\"text-align: right;\">\n",
              "      <th></th>\n",
              "      <th>Actual</th>\n",
              "      <th>Predicted</th>\n",
              "    </tr>\n",
              "  </thead>\n",
              "  <tbody>\n",
              "    <tr>\n",
              "      <th>189</th>\n",
              "      <td>7.1</td>\n",
              "      <td>6.764286</td>\n",
              "    </tr>\n",
              "    <tr>\n",
              "      <th>416</th>\n",
              "      <td>6.7</td>\n",
              "      <td>6.709752</td>\n",
              "    </tr>\n",
              "    <tr>\n",
              "      <th>41</th>\n",
              "      <td>7.3</td>\n",
              "      <td>6.727547</td>\n",
              "    </tr>\n",
              "    <tr>\n",
              "      <th>217</th>\n",
              "      <td>5.9</td>\n",
              "      <td>6.843220</td>\n",
              "    </tr>\n",
              "    <tr>\n",
              "      <th>60</th>\n",
              "      <td>6.6</td>\n",
              "      <td>6.389243</td>\n",
              "    </tr>\n",
              "    <tr>\n",
              "      <th>20</th>\n",
              "      <td>7.5</td>\n",
              "      <td>7.024758</td>\n",
              "    </tr>\n",
              "    <tr>\n",
              "      <th>387</th>\n",
              "      <td>7.2</td>\n",
              "      <td>6.281361</td>\n",
              "    </tr>\n",
              "    <tr>\n",
              "      <th>450</th>\n",
              "      <td>6.2</td>\n",
              "      <td>6.606201</td>\n",
              "    </tr>\n",
              "    <tr>\n",
              "      <th>438</th>\n",
              "      <td>7.6</td>\n",
              "      <td>6.783442</td>\n",
              "    </tr>\n",
              "    <tr>\n",
              "      <th>376</th>\n",
              "      <td>6.8</td>\n",
              "      <td>7.476733</td>\n",
              "    </tr>\n",
              "    <tr>\n",
              "      <th>348</th>\n",
              "      <td>8.6</td>\n",
              "      <td>7.211468</td>\n",
              "    </tr>\n",
              "    <tr>\n",
              "      <th>434</th>\n",
              "      <td>7.3</td>\n",
              "      <td>7.035414</td>\n",
              "    </tr>\n",
              "    <tr>\n",
              "      <th>23</th>\n",
              "      <td>6.5</td>\n",
              "      <td>6.162316</td>\n",
              "    </tr>\n",
              "    <tr>\n",
              "      <th>365</th>\n",
              "      <td>8.5</td>\n",
              "      <td>7.091914</td>\n",
              "    </tr>\n",
              "    <tr>\n",
              "      <th>484</th>\n",
              "      <td>7.1</td>\n",
              "      <td>7.347184</td>\n",
              "    </tr>\n",
              "    <tr>\n",
              "      <th>112</th>\n",
              "      <td>6.7</td>\n",
              "      <td>6.926463</td>\n",
              "    </tr>\n",
              "    <tr>\n",
              "      <th>322</th>\n",
              "      <td>5.5</td>\n",
              "      <td>7.319363</td>\n",
              "    </tr>\n",
              "    <tr>\n",
              "      <th>419</th>\n",
              "      <td>7.1</td>\n",
              "      <td>6.245808</td>\n",
              "    </tr>\n",
              "    <tr>\n",
              "      <th>418</th>\n",
              "      <td>7.2</td>\n",
              "      <td>6.621822</td>\n",
              "    </tr>\n",
              "    <tr>\n",
              "      <th>63</th>\n",
              "      <td>7.0</td>\n",
              "      <td>6.557303</td>\n",
              "    </tr>\n",
              "  </tbody>\n",
              "</table>\n",
              "</div>\n",
              "      <button class=\"colab-df-convert\" onclick=\"convertToInteractive('df-016dcd93-9db6-4ae6-8942-924f46c4a3c8')\"\n",
              "              title=\"Convert this dataframe to an interactive table.\"\n",
              "              style=\"display:none;\">\n",
              "        \n",
              "  <svg xmlns=\"http://www.w3.org/2000/svg\" height=\"24px\"viewBox=\"0 0 24 24\"\n",
              "       width=\"24px\">\n",
              "    <path d=\"M0 0h24v24H0V0z\" fill=\"none\"/>\n",
              "    <path d=\"M18.56 5.44l.94 2.06.94-2.06 2.06-.94-2.06-.94-.94-2.06-.94 2.06-2.06.94zm-11 1L8.5 8.5l.94-2.06 2.06-.94-2.06-.94L8.5 2.5l-.94 2.06-2.06.94zm10 10l.94 2.06.94-2.06 2.06-.94-2.06-.94-.94-2.06-.94 2.06-2.06.94z\"/><path d=\"M17.41 7.96l-1.37-1.37c-.4-.4-.92-.59-1.43-.59-.52 0-1.04.2-1.43.59L10.3 9.45l-7.72 7.72c-.78.78-.78 2.05 0 2.83L4 21.41c.39.39.9.59 1.41.59.51 0 1.02-.2 1.41-.59l7.78-7.78 2.81-2.81c.8-.78.8-2.07 0-2.86zM5.41 20L4 18.59l7.72-7.72 1.47 1.35L5.41 20z\"/>\n",
              "  </svg>\n",
              "      </button>\n",
              "      \n",
              "  <style>\n",
              "    .colab-df-container {\n",
              "      display:flex;\n",
              "      flex-wrap:wrap;\n",
              "      gap: 12px;\n",
              "    }\n",
              "\n",
              "    .colab-df-convert {\n",
              "      background-color: #E8F0FE;\n",
              "      border: none;\n",
              "      border-radius: 50%;\n",
              "      cursor: pointer;\n",
              "      display: none;\n",
              "      fill: #1967D2;\n",
              "      height: 32px;\n",
              "      padding: 0 0 0 0;\n",
              "      width: 32px;\n",
              "    }\n",
              "\n",
              "    .colab-df-convert:hover {\n",
              "      background-color: #E2EBFA;\n",
              "      box-shadow: 0px 1px 2px rgba(60, 64, 67, 0.3), 0px 1px 3px 1px rgba(60, 64, 67, 0.15);\n",
              "      fill: #174EA6;\n",
              "    }\n",
              "\n",
              "    [theme=dark] .colab-df-convert {\n",
              "      background-color: #3B4455;\n",
              "      fill: #D2E3FC;\n",
              "    }\n",
              "\n",
              "    [theme=dark] .colab-df-convert:hover {\n",
              "      background-color: #434B5C;\n",
              "      box-shadow: 0px 1px 3px 1px rgba(0, 0, 0, 0.15);\n",
              "      filter: drop-shadow(0px 1px 2px rgba(0, 0, 0, 0.3));\n",
              "      fill: #FFFFFF;\n",
              "    }\n",
              "  </style>\n",
              "\n",
              "      <script>\n",
              "        const buttonEl =\n",
              "          document.querySelector('#df-016dcd93-9db6-4ae6-8942-924f46c4a3c8 button.colab-df-convert');\n",
              "        buttonEl.style.display =\n",
              "          google.colab.kernel.accessAllowed ? 'block' : 'none';\n",
              "\n",
              "        async function convertToInteractive(key) {\n",
              "          const element = document.querySelector('#df-016dcd93-9db6-4ae6-8942-924f46c4a3c8');\n",
              "          const dataTable =\n",
              "            await google.colab.kernel.invokeFunction('convertToInteractive',\n",
              "                                                     [key], {});\n",
              "          if (!dataTable) return;\n",
              "\n",
              "          const docLinkHtml = 'Like what you see? Visit the ' +\n",
              "            '<a target=\"_blank\" href=https://colab.research.google.com/notebooks/data_table.ipynb>data table notebook</a>'\n",
              "            + ' to learn more about interactive tables.';\n",
              "          element.innerHTML = '';\n",
              "          dataTable['output_type'] = 'display_data';\n",
              "          await google.colab.output.renderOutput(dataTable, element);\n",
              "          const docLink = document.createElement('div');\n",
              "          docLink.innerHTML = docLinkHtml;\n",
              "          element.appendChild(docLink);\n",
              "        }\n",
              "      </script>\n",
              "    </div>\n",
              "  </div>\n",
              "  "
            ]
          },
          "metadata": {},
          "execution_count": 148
        }
      ]
    },
    {
      "cell_type": "code",
      "source": [
        "print('Mean Absolute Error:', metrics.mean_absolute_error(y_test,predicted_ratings))\n",
        "print('Mean Squared Error:', metrics.mean_squared_error(y_test,predicted_ratings))\n",
        "print('Root Mean Squared Error:', np.sqrt(metrics.mean_squared_error(y_test,predicted_ratings)))\n"
      ],
      "metadata": {
        "colab": {
          "base_uri": "https://localhost:8080/"
        },
        "id": "1vmMoGZaVGRR",
        "outputId": "4ba11ca5-64f8-4c7f-bf77-1f4eaa49f6bd"
      },
      "execution_count": 149,
      "outputs": [
        {
          "output_type": "stream",
          "name": "stdout",
          "text": [
            "Mean Absolute Error: 0.5853793103448278\n",
            "Mean Squared Error: 0.5707287586206905\n",
            "Root Mean Squared Error: 0.7554659215482129\n"
          ]
        }
      ]
    },
    {
      "cell_type": "code",
      "source": [
        "df8.plot(kind='bar',figsize=(10,8))\n",
        "plt.grid(which='major',linestyle='-',linewidth='0.5',color='green')\n",
        "plt.grid(which='minor',linestyle=':',linewidth='0.5',color='yellow')\n",
        "plt.show()"
      ],
      "metadata": {
        "colab": {
          "base_uri": "https://localhost:8080/",
          "height": 492
        },
        "id": "xJL7P55zVbOf",
        "outputId": "ccb0f263-fd42-4c35-c96f-2da3850ba401"
      },
      "execution_count": 150,
      "outputs": [
        {
          "output_type": "display_data",
          "data": {
            "text/plain": [
              "<Figure size 720x576 with 1 Axes>"
            ],
            "image/png": "[encoded data removed]"
          },
          "metadata": {
            "needs_background": "light"
          }
        }
      ]
    },
    {
      "cell_type": "markdown",
      "source": [
        "# Conclusion\n",
        "\n",
        "Using Mean Squared Error for different models to predict the best one \n",
        "\n",
        "**Order of medel fit:**\n",
        "\n",
        "Random Forest(0.566)\n",
        "\n",
        "Linear Regression(0.6277)\n",
        "\n",
        "Regression Tree(0.85077)\n",
        "\n",
        "\n",
        "\n"
      ],
      "metadata": {
        "id": "Sknb3nKuVjG6"
      }
    }
  ]
}